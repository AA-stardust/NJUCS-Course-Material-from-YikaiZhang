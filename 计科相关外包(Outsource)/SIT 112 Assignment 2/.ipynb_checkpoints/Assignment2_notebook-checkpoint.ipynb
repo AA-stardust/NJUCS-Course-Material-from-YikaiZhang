{
 "cells": [
  {
   "cell_type": "markdown",
   "metadata": {},
   "source": [
    "# <span style=\"color:#0b486b\"> SIT 112 - Data Science Concepts          - Assignment 2    - Deakin College </span>\n",
    "\n",
    "---\n",
    "This assignment is provided by Dr. Sergiy Shelyag | sergiy.shelyag@deakin.edu.au<br />\n",
    "\n",
    "School of Information Technology, <br />\n",
    "Deakin University, VIC, Australia.\n",
    "\n",
    "### <span style=\"color:#0b486b\">Due: 10 pm, 5th September 2020 </span>\n",
    "---"
   ]
  },
  {
   "cell_type": "markdown",
   "metadata": {},
   "source": [
    "## <span style=\"color:#0b486b\">Instructions</span>\n",
    "\n",
    "This notebook has been prepared for you to complete Assignment 2. Some sections have been partially completed  to help you get started. **The total marks for this notebook is 200**.\n",
    "\n",
    "* Before you start, read the entire notebook carefully to understand what you need to do. You should also refer to the main instructions in *Assignment2_instructions.pdf*  to know what else you need to complete for this assignment as well submission instruction. <br><br>\n",
    "\n",
    "* Instructions marked with **(D)** and **(HD)** are for students aiming at high grades. They are more involved and can be completed after all other instructions.\n",
    "\n",
    "\n",
    "* For each cell marked with **#YOU ARE REQUIRED TO INSERT YOUR CODE IN THIS CELL**, there will be places where you **must** supply your own codes when instructed. <br><br>\n",
    "\n",
    "* For each cell marked with **#YOU ARE REQUIRED TO INSERT YOUR COMMENT IN THIS CELL**, there will be place where you **must** provide your own comment when instructed. <br><br>\n",
    "\n",
    "\n",
    "### Submission\n",
    "\n",
    "You are required to submit **five** files: <br><br>\n",
    "\n",
    "* The source of your solution notebook: **[groupID]_assignment2_solution.ipynb**\n",
    "* An exported version of your output: **[groupID]_assignment2_output.html**  \n",
    "* Three json data files storing tweets collected for the three keywords, named **[groupID]_[w1].json**, **[groupID]_[w2].json**, **[groupID]_[w3].json** where **[w1], [w2], [w3]** are the three keywords you have been provided.\n",
    "    \n",
    "\n",
    "\n",
    "As you go through this notebook:\n",
    "\n",
    "* markdown cells marked with **Note** mean description sections.\n",
    "* markdown cells marked with **Instruction** mean the instructions given to you to complete the designated section."
   ]
  },
  {
   "cell_type": "markdown",
   "metadata": {},
   "source": [
    "## <span style=\"color:#0b486b\">Part 1: Crawling and Storing Tweet Data</span>\n",
    "\n",
    "\n",
    "The first part of the assignment examines your skills and knowledge to query tweets and store them in json files. For **each** provided keyword, your tasks are:\n",
    "\n",
    "* Crawl all tweets which contain this keyword written in English and geocoded within the location, provided for your group.\n",
    "* Store the tweets collected into json files.\n",
    "\n",
    "***Follow the instructions below to complete your task***."
   ]
  },
  {
   "cell_type": "markdown",
   "metadata": {},
   "source": [
    "**Note**: The following packages will be required for this assignment. If you need to import more packages, you might append them to the end of the following cell."
   ]
  },
  {
   "cell_type": "code",
   "execution_count": 1,
   "metadata": {},
   "outputs": [],
   "source": [
    "#Import packages needed for processing\n",
    "import re\n",
    "import json\n",
    "import xml\n",
    "import numpy as np\n",
    "from collections import Counter\n",
    "from TwitterAPI import TwitterAPI # in case you need to install this package, see practical 6\n",
    "from sklearn.cluster import KMeans\n",
    "\n",
    "import requests\n",
    "\n",
    "# disabling urllib3 warnings\n",
    "requests.packages.urllib3.disable_warnings()\n",
    "\n",
    "import matplotlib.pyplot as plt\n",
    "%matplotlib inline\n",
    "\n",
    "#If you need add any additional packages, then add them below\n",
    "\n"
   ]
  },
  {
   "cell_type": "markdown",
   "metadata": {},
   "source": [
    "**Instruction 1.1**. Enter your provided keywords to the variable **keywords** below.\n",
    "\n",
    "[**Total mark: 3**]"
   ]
  },
  {
   "cell_type": "code",
   "execution_count": 2,
   "metadata": {},
   "outputs": [],
   "source": [
    "# YOU ARE REQUIRED TO INSERT YOUR CODE IN THIS CELL\n",
    "\n",
    "#Enter the list of three keywords you selected to the variables keywords below\n",
    "#e.g. keywords = [\"abc\", \"def\", \"ghi\"]\n",
    "\n",
    "keywords = ['car', 'pizza', 'dance']"
   ]
  },
  {
   "cell_type": "markdown",
   "metadata": {
    "collapsed": true
   },
   "source": [
    "**Instruction 1.2**. Before you can perform a query to Twitter API, you need to supply authentication information. Practical sessions 6 and 7 show you how to obtain this information. **Your task is to supply the authentication information in the cell below**.\n",
    "\n",
    "**Note**: You might decide to regenerate this authentication from the pracs if you would like too. <span style=\"color:red\">After the assignment has been marked, you are strongly recommended to regenerate this authentication information from your account to maintain your privacy.</span> \n",
    "\n",
    "\n",
    "[**Total mark: 5**]"
   ]
  },
  {
   "cell_type": "code",
   "execution_count": 3,
   "metadata": {},
   "outputs": [],
   "source": [
    "# YOU ARE REQUIRED TO INSERT YOUR CODE IN THIS CELL\n",
    "\n",
    "# Twitter API credentials \n",
    "CONSUMER_KEY = \"9Vxib8xjlwRLi7hBoVpWref0O\" #ENTER YOUR CONSUMER_KEY\n",
    "CONSUMER_SECRET = \"xKQjvkJKNX5kubQYIxl9GgCBSU5C9krNkPVbGOHZQY3hXHHnjm\" #ENTER YOUR CONSUMER_SECRET\n",
    "OAUTH_TOKEN = \"1300703780648792064-mHAkZhrQ0rAkYnFgHgzajFsxviQvfg\" #ENTER YOUR OAUTH_TOKEN\n",
    "OAUTH_TOKEN_SECRET = \"lVgXTfGX0RDXwFiKUk3HPMUWpjWZGao41EEDoltq4ZeoT\" #ENTER YOUR OAUTH_TOKEN_SECRET\n",
    "\n",
    "# Authonticating with your application credentials\n",
    "api = TwitterAPI(CONSUMER_KEY,\n",
    "                 CONSUMER_SECRET,\n",
    "                 OAUTH_TOKEN,\n",
    "                 OAUTH_TOKEN_SECRET) #INSERT YOUR CODE HERE"
   ]
  },
  {
   "cell_type": "code",
   "execution_count": 4,
   "metadata": {},
   "outputs": [
    {
     "name": "stdout",
     "output_type": "stream",
     "text": [
      "Makayla is a  secretary that likes Turun sinappi on their olive pizza with white wine\n",
      "@gxbrielCharmant junge son pizza schneider (halt diese rolle) soooo easy.\n",
      "man geht einmal rüber bamm geschnitten.… https://t.co/RAFCNxW5fq\n",
      "Pizza, https://t.co/95KjqIUZi6\n",
      "when you hear they put onion on the pizza https://t.co/ki9AoVG62I\n",
      "helloultraw its ayan speaking i am your new tweet member and i just want to let u know that in game called pizza fa… https://t.co/ieAkKbgw29\n",
      "@parkjijmin @jeenduc @day6jaepwark Pizza\n",
      "RT @adamgreattweet: Once, as a kid at a birthday party, I asked for a third slice of pizza and the mom said “Are you serious?” and I said “…\n",
      "@GigiPitbull73 Elle sait l’engraisser de connerie chips pizza .. mais pour penser a lhydrater cest les nounous qui… https://t.co/C7S279pVqY\n",
      "３周年おめでとうございます‼ https://t.co/3y0bJdVUxM\n",
      "RT @efsanekavga: Kavga eden adamları pizza ikram ederek ayırmak mı.. Jsjjsjsjsjsjsh\n",
      "\n",
      " https://t.co/ncOkTSvsd5\n"
     ]
    }
   ],
   "source": [
    "resp = api.request('search/tweets', {'q':'pizza'})\n",
    "i = 0\n",
    "for r in resp:\n",
    "    i += 1\n",
    "    print(r['text'])\n",
    "    if i == 10:\n",
    "        break"
   ]
  },
  {
   "cell_type": "markdown",
   "metadata": {},
   "source": [
    "**Note**: As you have learned from the pracical sessions, to perform a query from Twitter API for a particular geo-coded location you need a center point and a radius. The center point is specified by its (latitude,longitute) pair. **The information below has been provided to you to perform the query in the subsequent tasks**."
   ]
  },
  {
   "cell_type": "code",
   "execution_count": 5,
   "metadata": {},
   "outputs": [],
   "source": [
    "# YOU ARE REQUIRED TO INSERT YOUR CODE IN THIS CELL\n",
    "# geo coordinations of the desired place\n",
    "# Group 10:\n",
    "PLACE_LAT = -33.868820 # INSERT YOUR CODE\n",
    "PLACE_LON = 151.209290 # INSERT YOUR CODE\n",
    "PLACE_RAD = 1000 # INSERT YOUR CODE"
   ]
  },
  {
   "cell_type": "markdown",
   "metadata": {},
   "source": [
    "**Instruction 1.3**. For each keyword, you are required to crawl at least **200** tweets (the more the better) using the Twitter API. However, as you have learned from the practical sessions, each query will return a maximum of only **100** tweets. Therefore, subsequent query **must** use the maximum Tweet ID from the previous batch to crawl the next lot.\n",
    "\n",
    "The following function, called ***retrieve_tweets()***, has been **partially** implemented to automatically download tweets until it reaches the maximum number of tweets needed. \n",
    "\n",
    "For example, a function call\n",
    "```\n",
    "retrieve_tweets(api, 'car', 50, 200, latitude, longitude, radius)\n",
    "```\n",
    "will attempt to crawl a total of at least 200 tweets that contains the word 'car' for a location with given latitude, longidude and radius around it. Within each single query, it will attempt to obtain 50 tweets.\n",
    "\n",
    "**Your task is to walk through this function and enter your own codes where instructed to complete the function**.\n",
    "\n",
    "[**Total mark: 10**]"
   ]
  },
  {
   "cell_type": "code",
   "execution_count": 6,
   "metadata": {},
   "outputs": [],
   "source": [
    "# YOU ARE REQUIRED TO INSERT YOUR CODE IN THIS CELL\n",
    "'''\n",
    "You will be required to insert your own codes to complete this function. \n",
    "Walk through this function and enter your own codes where instructed.\n",
    "'''\n",
    "def retrieve_tweets(api, keyword, batch_count, total_count, latitude, longitude, radius):\n",
    "    \"\"\"\n",
    "    collects tweets using the Twitter search API\n",
    "    \n",
    "    api:         Twitter API instance\n",
    "    keyword:     search keyword\n",
    "    batch_count: maximum number of tweets to collect per each request\n",
    "    total_count: maximum number of tweets in total\n",
    "    \"\"\"\n",
    "\n",
    "    \n",
    "    # the collection of tweets to be returned\n",
    "    tweets_unfiltered = []\n",
    "    tweets = []\n",
    "    \n",
    "    # the number of tweets within a single query\n",
    "    batch_count = str(batch_count)\n",
    "    \n",
    "    '''\n",
    "    You are required to insert your own code where instructed to perform the first query to Twitter API.\n",
    "    Hint: revise the practical session on Twitter API on how to perform query to Twitter API.\n",
    "    '''\n",
    "    # per the first query, to obtain max_id_str which will be used later to query sub\n",
    "    resp = api.request('search/tweets', {'q': keyword,\n",
    "                                         'count': batch_count,\n",
    "                                         'lang':'en',\n",
    "                                         'result_type':'recent',\n",
    "                                         'geocode':'{},{},{}mi'.format(latitude, longitude, radius)})\n",
    "    \n",
    "    # store the tweets in a list\n",
    "\n",
    "    # check first if there was an error\n",
    "    if ('errors' in resp.json()):\n",
    "        errors = resp.json()['errors']\n",
    "        if (errors[0]['code'] == 88):\n",
    "            print('Too many attempts to load tweets.')\n",
    "            print('You need to wait for a few minutes before accessing Twitter API again.')\n",
    "    \n",
    "    if ('statuses' in resp.json()):\n",
    "        tweets_unfiltered += resp.json()['statuses']\n",
    "        tweets = [tweet for tweet in tweets_unfiltered if ((tweet['retweeted'] != True) and ('RT @' not in tweet['text']))]\n",
    "    \n",
    "        # find the max_id_str for the next batch\n",
    "        ids = [tweet['id'] for tweet in tweets_unfiltered]\n",
    "        max_id_str = str(min(ids))\n",
    "\n",
    "        # loop until as many tweets as total_count is collected\n",
    "        number_of_tweets = len(tweets)\n",
    "        while number_of_tweets < total_count:\n",
    "\n",
    "            resp = api.request('search/tweets', {'q': keyword, #INSERT YOUR CODE\n",
    "                                                 'count': batch_count, #INSERT YOUR CODE\n",
    "                                                 'lang':'en',\n",
    "                                                 'result_type': 'recent', #INSERT YOUR CODE\n",
    "                                                 'max_id': max_id_str,\n",
    "                                                 'geocode': '{},{},{}mi'.format(latitude, longitude, radius)})\n",
    "\n",
    "            if ('statuses' in resp.json()):\n",
    "                tweets_unfiltered += resp.json()['statuses']\n",
    "                tweets = [tweet for tweet in tweets_unfiltered if ((tweet['retweeted'] != True) and ('RT @' not in tweet['text']))]\n",
    "                ids = [tweet['id'] for tweet in tweets_unfiltered]\n",
    "                max_id_str = str(min(ids))\n",
    "            \n",
    "                number_of_tweets = len(tweets)\n",
    "        \n",
    "            print(\"{} tweets are collected for keyword {}. Last tweet created at {}\".format(number_of_tweets, \n",
    "                                                                                    keyword, \n",
    "                                                                                    tweets[number_of_tweets-1]['created_at']))\n",
    "    return tweets"
   ]
  },
  {
   "cell_type": "markdown",
   "metadata": {},
   "source": [
    "**Instruction 1.4**. After having defined the ***retrieve_tweets()*** function above, you are now ready to use this function to collect your tweets. Your task is to write the code to perform three function calls, each of which corresponds to one keyword. And, you are required to collect at least **200** tweets for each keyword (the more the better).\n",
    "\n",
    "[**Total mark: 9**]"
   ]
  },
  {
   "cell_type": "code",
   "execution_count": 7,
   "metadata": {},
   "outputs": [
    {
     "name": "stdout",
     "output_type": "stream",
     "text": [
      "39 tweets are collected for keyword car. Last tweet created at Wed Sep 02 11:37:23 +0000 2020\n",
      "59 tweets are collected for keyword car. Last tweet created at Wed Sep 02 11:03:40 +0000 2020\n",
      "80 tweets are collected for keyword car. Last tweet created at Wed Sep 02 10:33:42 +0000 2020\n",
      "101 tweets are collected for keyword car. Last tweet created at Wed Sep 02 10:04:23 +0000 2020\n",
      "111 tweets are collected for keyword car. Last tweet created at Wed Sep 02 09:43:48 +0000 2020\n",
      "125 tweets are collected for keyword car. Last tweet created at Wed Sep 02 09:23:20 +0000 2020\n",
      "139 tweets are collected for keyword car. Last tweet created at Wed Sep 02 09:05:19 +0000 2020\n",
      "150 tweets are collected for keyword car. Last tweet created at Wed Sep 02 08:46:37 +0000 2020\n",
      "169 tweets are collected for keyword car. Last tweet created at Wed Sep 02 08:35:51 +0000 2020\n",
      "179 tweets are collected for keyword car. Last tweet created at Wed Sep 02 08:22:34 +0000 2020\n",
      "188 tweets are collected for keyword car. Last tweet created at Wed Sep 02 08:08:06 +0000 2020\n",
      "198 tweets are collected for keyword car. Last tweet created at Wed Sep 02 07:54:18 +0000 2020\n",
      "210 tweets are collected for keyword car. Last tweet created at Wed Sep 02 07:42:26 +0000 2020\n",
      "75 tweets are collected for keyword pizza. Last tweet created at Wed Sep 02 03:52:46 +0000 2020\n",
      "106 tweets are collected for keyword pizza. Last tweet created at Tue Sep 01 23:04:22 +0000 2020\n",
      "136 tweets are collected for keyword pizza. Last tweet created at Tue Sep 01 15:43:01 +0000 2020\n",
      "180 tweets are collected for keyword pizza. Last tweet created at Tue Sep 01 09:14:38 +0000 2020\n",
      "210 tweets are collected for keyword pizza. Last tweet created at Tue Sep 01 06:28:23 +0000 2020\n",
      "39 tweets are collected for keyword dance. Last tweet created at Wed Sep 02 10:25:15 +0000 2020\n",
      "61 tweets are collected for keyword dance. Last tweet created at Wed Sep 02 09:45:17 +0000 2020\n",
      "78 tweets are collected for keyword dance. Last tweet created at Wed Sep 02 08:25:45 +0000 2020\n",
      "89 tweets are collected for keyword dance. Last tweet created at Wed Sep 02 07:18:04 +0000 2020\n",
      "102 tweets are collected for keyword dance. Last tweet created at Wed Sep 02 06:22:03 +0000 2020\n",
      "113 tweets are collected for keyword dance. Last tweet created at Wed Sep 02 05:23:48 +0000 2020\n",
      "119 tweets are collected for keyword dance. Last tweet created at Wed Sep 02 04:49:10 +0000 2020\n",
      "124 tweets are collected for keyword dance. Last tweet created at Wed Sep 02 04:23:54 +0000 2020\n",
      "128 tweets are collected for keyword dance. Last tweet created at Wed Sep 02 03:45:54 +0000 2020\n",
      "130 tweets are collected for keyword dance. Last tweet created at Wed Sep 02 03:26:39 +0000 2020\n",
      "132 tweets are collected for keyword dance. Last tweet created at Wed Sep 02 03:17:39 +0000 2020\n",
      "135 tweets are collected for keyword dance. Last tweet created at Wed Sep 02 03:10:15 +0000 2020\n",
      "136 tweets are collected for keyword dance. Last tweet created at Wed Sep 02 03:04:17 +0000 2020\n",
      "138 tweets are collected for keyword dance. Last tweet created at Wed Sep 02 03:01:06 +0000 2020\n",
      "141 tweets are collected for keyword dance. Last tweet created at Wed Sep 02 02:57:43 +0000 2020\n",
      "142 tweets are collected for keyword dance. Last tweet created at Wed Sep 02 02:49:57 +0000 2020\n",
      "142 tweets are collected for keyword dance. Last tweet created at Wed Sep 02 02:49:57 +0000 2020\n",
      "143 tweets are collected for keyword dance. Last tweet created at Wed Sep 02 02:45:27 +0000 2020\n",
      "144 tweets are collected for keyword dance. Last tweet created at Wed Sep 02 02:43:01 +0000 2020\n",
      "144 tweets are collected for keyword dance. Last tweet created at Wed Sep 02 02:43:01 +0000 2020\n",
      "144 tweets are collected for keyword dance. Last tweet created at Wed Sep 02 02:43:01 +0000 2020\n",
      "144 tweets are collected for keyword dance. Last tweet created at Wed Sep 02 02:43:01 +0000 2020\n",
      "144 tweets are collected for keyword dance. Last tweet created at Wed Sep 02 02:43:01 +0000 2020\n",
      "144 tweets are collected for keyword dance. Last tweet created at Wed Sep 02 02:43:01 +0000 2020\n",
      "144 tweets are collected for keyword dance. Last tweet created at Wed Sep 02 02:43:01 +0000 2020\n",
      "144 tweets are collected for keyword dance. Last tweet created at Wed Sep 02 02:43:01 +0000 2020\n",
      "144 tweets are collected for keyword dance. Last tweet created at Wed Sep 02 02:43:01 +0000 2020\n",
      "144 tweets are collected for keyword dance. Last tweet created at Wed Sep 02 02:43:01 +0000 2020\n",
      "168 tweets are collected for keyword dance. Last tweet created at Wed Sep 02 00:24:33 +0000 2020\n",
      "194 tweets are collected for keyword dance. Last tweet created at Tue Sep 01 21:48:02 +0000 2020\n",
      "203 tweets are collected for keyword dance. Last tweet created at Tue Sep 01 17:10:03 +0000 2020\n"
     ]
    }
   ],
   "source": [
    "# YOU ARE REQUIRED TO INSERT YOUR CODE IN THIS CELL\n",
    "'''\n",
    "Your task is to write the code to perform three function calls, each corresponds to one keyword. \n",
    "And, you are required to collect at least 200 tweets for each key word.\n",
    "'''\n",
    "\n",
    "# Collecting the tweets for three assigned keywords, \n",
    "# Your function call should look like this:  retrieve_tweets(api,'keyword',single_count,total_count)\n",
    "k1_tweets = retrieve_tweets(api, keywords[0], 50, 200, PLACE_LAT, PLACE_LON, PLACE_RAD) #INSERT YOUR CODE HERE\n",
    "k2_tweets = retrieve_tweets(api, keywords[1], 50, 200, PLACE_LAT, PLACE_LON, PLACE_RAD) #INSERT YOUR CODE HERE\n",
    "k3_tweets = retrieve_tweets(api, keywords[2], 50, 200, PLACE_LAT, PLACE_LON, PLACE_RAD) #INSERT YOUR CODE HERE\n",
    "\n",
    "# PLEASE NOTE THAT IF YOU RUN THIS CELL, IT MIGHT TAKE A WHILE TO DOWNLOAD ALL THE TWEETS REQUIRED.\n",
    "# MAKE SURE THAT YOU WAIT UNTILL THE CELL FINISHES RUNNING."
   ]
  },
  {
   "cell_type": "code",
   "execution_count": 8,
   "metadata": {},
   "outputs": [
    {
     "name": "stdout",
     "output_type": "stream",
     "text": [
      "210\n",
      "Big empty car parks to practice parking at night as a learner driver around Sydney? https://t.co/dM6xvy7loL #Sydney\n",
      "--------------------------------------------------------------------------------\n",
      "No, I’m new Bruce. Car’s okay https://t.co/xm0lWxFstX\n",
      "--------------------------------------------------------------------------------\n",
      "@06eleven @FantaRising tooth! the bloody car had better be right after all this angst\n",
      "--------------------------------------------------------------------------------\n",
      "@fagkth And you think women feel the same way? \n",
      "You think woman wants to walk down the street and be cat called, yo… https://t.co/5DaKNRXOtn\n",
      "--------------------------------------------------------------------------------\n",
      "Love this! It's the all-new S-Class. We shot a video on the 5 coolest features – like the digital headlights (2.6 m… https://t.co/DRQOgxpCbD\n",
      "--------------------------------------------------------------------------------\n",
      "@JaySW6_ class, did mean at chelsea rn tho but that’s all g I’ll keep you entertained in the car\n",
      "--------------------------------------------------------------------------------\n",
      "@Terri168 @ellymelly @Tim_jbo @HembergBret @craigturnbull_ @rowandean @VictoriaPolice @ScottMorrisonMP Police don't… https://t.co/xUmQOBUF2p\n",
      "--------------------------------------------------------------------------------\n",
      "Which #electriccar is the cheapest to run? https://t.co/ZBIOXZ1D9w\n",
      "--------------------------------------------------------------------------------\n",
      "I don’t condone it, but some of y’all deserve to have your car keyed 🥱\n",
      "--------------------------------------------------------------------------------\n",
      "So 10.30 at night most nights someone either leaves or arrives on the road next to my apartment playing window vibr… https://t.co/lRN2syS5OF\n",
      "--------------------------------------------------------------------------------\n"
     ]
    }
   ],
   "source": [
    "# YOU ARE REQUIRED TO INSERT YOUR CODE IN THIS CELL\n",
    "'''\n",
    "Write your code to print the number of tweets have been collected for each keyword\n",
    "'''\n",
    "# INSERT YOUR CODE HERE\n",
    "\n",
    "print(len(k1_tweets))\n",
    "for i, v in enumerate(k1_tweets):\n",
    "    if i >= 10:\n",
    "        break\n",
    "    print(v['text'])\n",
    "    print(\"-\"*80)"
   ]
  },
  {
   "cell_type": "markdown",
   "metadata": {},
   "source": [
    "**Note:** Each tweet is stored in a dictionary where its keywords are fields in the tweet and values are the information of the fields. The cell below print the type of a tweet."
   ]
  },
  {
   "cell_type": "code",
   "execution_count": 9,
   "metadata": {},
   "outputs": [
    {
     "name": "stdout",
     "output_type": "stream",
     "text": [
      "<class 'dict'>\n"
     ]
    }
   ],
   "source": [
    "# Data type of tweets\n",
    "print(type(k1_tweets[0]))"
   ]
  },
  {
   "cell_type": "markdown",
   "metadata": {},
   "source": [
    "**Instruction 1.6**.  To examine what the tweets look like, in the cell below write your code to print out all fields of the first tweet in `k1_tweets` and print out the text of the first tweet collected for each keyword.\n",
    "\n",
    "[**Total mark: 6**]"
   ]
  },
  {
   "cell_type": "code",
   "execution_count": 10,
   "metadata": {},
   "outputs": [
    {
     "name": "stdout",
     "output_type": "stream",
     "text": [
      "all fields of the first tweet:\n",
      "created_at, id, id_str, text, truncated, entities, metadata, source, in_reply_to_status_id, in_reply_to_status_id_str, in_reply_to_user_id, in_reply_to_user_id_str, in_reply_to_screen_name, user, geo, coordinates, place, contributors, is_quote_status, retweet_count, favorite_count, favorited, retweeted, possibly_sensitive, lang, \n",
      "--------------------------------------------------------------------------------\n",
      "all keys and value of the first tweet:\n",
      "created_at: Wed Sep 02 12:43:14 +0000 2020\n",
      "id: 1301138616781950977\n",
      "id_str: 1301138616781950977\n",
      "text: Big empty car parks to practice parking at night as a learner driver around Sydney? https://t.co/dM6xvy7loL #Sydney\n",
      "truncated: False\n",
      "entities: {'hashtags': [{'text': 'Sydney', 'indices': [108, 115]}], 'symbols': [], 'user_mentions': [], 'urls': [{'url': 'https://t.co/dM6xvy7loL', 'expanded_url': 'https://www.reddit.com/r/sydney/comments/il62o9/big_empty_car_parks_to_practice_parking_at_night/', 'display_url': 'reddit.com/r/sydney/comme…', 'indices': [84, 107]}]}\n",
      "metadata: {'iso_language_code': 'en', 'result_type': 'recent'}\n",
      "source: <a href=\"http://www.reddit.com/r/sydney\" rel=\"nofollow\">SydneyReddit</a>\n",
      "in_reply_to_status_id: None\n",
      "in_reply_to_status_id_str: None\n",
      "in_reply_to_user_id: None\n",
      "in_reply_to_user_id_str: None\n",
      "in_reply_to_screen_name: None\n",
      "user: {'id': 2425325605, 'id_str': '2425325605', 'name': 'SydneyReddit', 'screen_name': 'SydneyReddit', 'location': 'Sydney, Australia', 'description': 'Tweeting all new posts from https://t.co/WLS34GPrGM', 'url': 'https://t.co/DuI3TwUPHe', 'entities': {'url': {'urls': [{'url': 'https://t.co/DuI3TwUPHe', 'expanded_url': 'http://www.reddit.com/r/sydney', 'display_url': 'reddit.com/r/sydney', 'indices': [0, 23]}]}, 'description': {'urls': [{'url': 'https://t.co/WLS34GPrGM', 'expanded_url': 'http://reddit.com/r/sydney', 'display_url': 'reddit.com/r/sydney', 'indices': [28, 51]}]}}, 'protected': False, 'followers_count': 559, 'friends_count': 3, 'listed_count': 22, 'created_at': 'Thu Apr 03 09:03:03 +0000 2014', 'favourites_count': 1, 'utc_offset': None, 'time_zone': None, 'geo_enabled': False, 'verified': False, 'statuses_count': 47869, 'lang': None, 'contributors_enabled': False, 'is_translator': False, 'is_translation_enabled': False, 'profile_background_color': 'C0DEED', 'profile_background_image_url': 'http://abs.twimg.com/images/themes/theme1/bg.png', 'profile_background_image_url_https': 'https://abs.twimg.com/images/themes/theme1/bg.png', 'profile_background_tile': False, 'profile_image_url': 'http://pbs.twimg.com/profile_images/451646338782879744/JXf8B9JA_normal.png', 'profile_image_url_https': 'https://pbs.twimg.com/profile_images/451646338782879744/JXf8B9JA_normal.png', 'profile_banner_url': 'https://pbs.twimg.com/profile_banners/2425325605/1569837573', 'profile_link_color': '1DA1F2', 'profile_sidebar_border_color': 'C0DEED', 'profile_sidebar_fill_color': 'DDEEF6', 'profile_text_color': '333333', 'profile_use_background_image': True, 'has_extended_profile': False, 'default_profile': True, 'default_profile_image': False, 'following': False, 'follow_request_sent': False, 'notifications': False, 'translator_type': 'none'}\n",
      "geo: None\n",
      "coordinates: None\n",
      "place: None\n",
      "contributors: None\n",
      "is_quote_status: False\n",
      "retweet_count: 0\n",
      "favorite_count: 0\n",
      "favorited: False\n",
      "retweeted: False\n",
      "possibly_sensitive: False\n",
      "lang: en\n",
      "\n",
      "--------------------------------------------------------------------------------\n",
      "\n",
      "The text of the first tweet for \"car\":\n",
      "\n",
      "Big empty car parks to practice parking at night as a learner driver around Sydney? https://t.co/dM6xvy7loL #Sydney\n",
      "\n",
      "The text of the first tweet for \"pizza\":\n",
      "\n",
      "@BigTeddyWindsor Well you go right ahead and have those beans on your pizza Teddy each to.their own.😂😂😂😂\n",
      "\n",
      "The text of the first tweet for \"dance\":\n",
      "\n",
      "NOW ON AIR ⭕️ #DC33\n",
      "U.S.U.R.A. Open Your Mind\n",
      "\n",
      "STREAM: https://t.co/QwWGIM7eu9\n",
      "STREAM: https://t.co/jmIg7Txss7 https://t.co/njw2YU6VvM\n"
     ]
    }
   ],
   "source": [
    "# YOU ARE REQUIRED TO INSERT YOUR CODE IN THIS CELL\n",
    "'''\n",
    "Write your code to print out all fields of the first tweet\n",
    "Hint: You might want to use method keys() of the dictionary\n",
    "'''\n",
    "# INSERT YOUR CODE HERE\n",
    "\n",
    "print(\"all fields of the first tweet:\")\n",
    "for i in k1_tweets[0].keys():\n",
    "    print(\"{}, \".format(i), end=\"\")\n",
    "print()\n",
    "print(\"-\"*80)\n",
    "print(\"all keys and value of the first tweet:\")\n",
    "for i in k1_tweets[0].keys():\n",
    "    print(\"{}: {}\".format(i, k1_tweets[0][i]))\n",
    "print()\n",
    "print(\"-\"*80)\n",
    "\n",
    "'''\n",
    "Write your code to print out the text of the first  tweet collected for each keyword.\n",
    "'''\n",
    "\n",
    "print(\"\\nThe text of the first tweet for \\\"{}\\\":\\n\".format(keywords[0]))\n",
    "# INSERT YOUR CODE HERE\n",
    "print(k1_tweets[0]['text'])\n",
    "\n",
    "print(\"\\nThe text of the first tweet for \\\"{}\\\":\\n\".format(keywords[1]))\n",
    "# INSERT YOUR CODE HERE\n",
    "print(k2_tweets[0]['text'])\n",
    "\n",
    "print('\\nThe text of the first tweet for \\\"{}\\\":\\n'.format(keywords[2]))\n",
    "# INSERT YOUR CODE HERE\n",
    "print(k3_tweets[0]['text'])\n"
   ]
  },
  {
   "cell_type": "markdown",
   "metadata": {},
   "source": [
    "**Note**. When collecting data from the Internet, such as Twitter, it is important that we store the data collected in an appropriate format for later data analysis task. We have learned that json is a poplular lightweight data format that can be handy to store unstructured data. For example, with NoSQL we can directly query these files in a 'scaling out' fashion. These technologies are representative features of Big Data Analytics.\n",
    "\n",
    "The following function has been designed for you to save an object which is a list of dictionaries (such as k1_tweets variable) to a json file. **You will need this function for your next task**."
   ]
  },
  {
   "cell_type": "code",
   "execution_count": 11,
   "metadata": {},
   "outputs": [],
   "source": [
    "def save_to_json(obj, filename):\n",
    "    \"\"\"\n",
    "    saves a list of dictionaries into a json file\n",
    "    \n",
    "    obj: list of dictionaries\n",
    "    filename: filename\n",
    "    \"\"\"\n",
    "    with open(filename, 'w') as fp:\n",
    "        json.dump(obj, fp, indent=4, sort_keys=True)   "
   ]
  },
  {
   "cell_type": "markdown",
   "metadata": {},
   "source": [
    "**Instruction 1.7**. Use the function ***save_to_json()*** defined above, for each collection of tweets you have crawled for each keyword, save them into a file named **w.json** where **w** is the keyword.\n",
    "\n",
    "For example, if your keywords are 'w1', 'w2' and 'w3', then your code must generate three file w1.json, w2.json and w3.json. **Important: you must submit these files together with your notebook solution**.\n",
    "\n",
    "[**Total mark: 9**]"
   ]
  },
  {
   "cell_type": "code",
   "execution_count": 12,
   "metadata": {},
   "outputs": [
    {
     "name": "stdout",
     "output_type": "stream",
     "text": [
      "car keyword has been saved to file: car.json.\n",
      "pizza keyword has been saved to file: pizza.json.\n",
      "dance keyword has been saved to file: dance.json.\n"
     ]
    }
   ],
   "source": [
    "# YOU ARE REQUIRED TO INSERT YOUR CODE IN THIS CELL\n",
    "'''\n",
    "Use the save_to_json() function defined above, for the collection of tweets \n",
    "you have crawled for each keyword, save them into a file named w.json where w is the keyword, taken from keywords list.\n",
    "'''\n",
    "# saving the tweets in three json files, one for each keyword\n",
    "#INSERT YOUR CODE HERE\n",
    "\n",
    "save_to_json(k1_tweets, keywords[0] + \".json\")\n",
    "print(\"{} keyword has been saved to file: {}.\".format(keywords[0], keywords[0] + \".json\"))\n",
    "\n",
    "save_to_json(k2_tweets, keywords[1] + \".json\")\n",
    "print(\"{} keyword has been saved to file: {}.\".format(keywords[1], keywords[1] + \".json\"))\n",
    "\n",
    "save_to_json(k3_tweets, keywords[2] + \".json\")\n",
    "print(\"{} keyword has been saved to file: {}.\".format(keywords[2], keywords[2] + \".json\"))"
   ]
  },
  {
   "cell_type": "markdown",
   "metadata": {},
   "source": [
    "###                                     END OF PART 1\n",
    "----"
   ]
  },
  {
   "cell_type": "markdown",
   "metadata": {},
   "source": [
    "## Part 2: Data Analytics\n",
    "\n",
    "The second part of this assignment will examine your skills and knowlege in data manipulation and analysis tasks. It includes three main components:\n",
    "\n",
    "**Part 2A**. For each keyword, you will be required to load the tweets from your saved json files (from Part 1) and filter out all tweets that are too short.\n",
    "\n",
    "**Part 2B**. Using your knowledge from practical sessions 5, 6 and 7, you will be required to construct the term-by-document matrix for the tweets and to perform visualisation tasks to understand them.\n",
    "\n",
    "**Part 2C**. You will apply the Kmeans clustering algorithm to cluster your tweets and report the clustering results.\n",
    "\n",
    "***Follow the instructions below to complete your assigned tasks***."
   ]
  },
  {
   "cell_type": "markdown",
   "metadata": {},
   "source": [
    "### Part 2A: Load and Filter Tweets from Files"
   ]
  },
  {
   "cell_type": "markdown",
   "metadata": {},
   "source": [
    "**Instruction 2.1**. The following function, named ***read_json_file()***, has been partially implemented to load data from a json file. This function will be used later on to load three json files you have saved from Part 1. Your task is to insert your own code where instructed to complete this function.\n",
    "\n",
    "[**Total mark: 4**]"
   ]
  },
  {
   "cell_type": "code",
   "execution_count": 13,
   "metadata": {},
   "outputs": [],
   "source": [
    "# YOU ARE REQUIRED TO INSERT YOUR CODE IN THIS CELL\n",
    "'''\n",
    "Insert your own code where instructed to complete this function\n",
    "'''\n",
    "def read_json_file(filename):\n",
    "    \"\"\"\n",
    "    reads from a json file and saves the result in a list named data\n",
    "    \"\"\"\n",
    "    with open(filename, 'r') as fp:\n",
    "        data = json.loads(fp.read())\n",
    "    return data     "
   ]
  },
  {
   "cell_type": "markdown",
   "metadata": {},
   "source": [
    "**Instruction 2.2**. Now use the ***read_json_file()*** function defined above, write three function calls to load data from three json files you have saved from Part 1.\n",
    "\n",
    "[**Total mark: 9**]"
   ]
  },
  {
   "cell_type": "code",
   "execution_count": 14,
   "metadata": {},
   "outputs": [
    {
     "name": "stdout",
     "output_type": "stream",
     "text": [
      "contributors: None\n",
      "coordinates: None\n",
      "created_at: Wed Sep 02 12:43:14 +0000 2020\n",
      "entities: {'hashtags': [{'indices': [108, 115], 'text': 'Sydney'}], 'symbols': [], 'urls': [{'display_url': 'reddit.com/r/sydney/comme…', 'expanded_url': 'https://www.reddit.com/r/sydney/comments/il62o9/big_empty_car_parks_to_practice_parking_at_night/', 'indices': [84, 107], 'url': 'https://t.co/dM6xvy7loL'}], 'user_mentions': []}\n",
      "favorite_count: 0\n",
      "favorited: False\n",
      "geo: None\n",
      "id: 1301138616781950977\n",
      "id_str: 1301138616781950977\n",
      "in_reply_to_screen_name: None\n",
      "in_reply_to_status_id: None\n",
      "in_reply_to_status_id_str: None\n",
      "in_reply_to_user_id: None\n",
      "in_reply_to_user_id_str: None\n",
      "is_quote_status: False\n",
      "lang: en\n",
      "metadata: {'iso_language_code': 'en', 'result_type': 'recent'}\n",
      "place: None\n",
      "possibly_sensitive: False\n",
      "retweet_count: 0\n",
      "retweeted: False\n",
      "source: <a href=\"http://www.reddit.com/r/sydney\" rel=\"nofollow\">SydneyReddit</a>\n",
      "text: Big empty car parks to practice parking at night as a learner driver around Sydney? https://t.co/dM6xvy7loL #Sydney\n",
      "truncated: False\n",
      "user: {'contributors_enabled': False, 'created_at': 'Thu Apr 03 09:03:03 +0000 2014', 'default_profile': True, 'default_profile_image': False, 'description': 'Tweeting all new posts from https://t.co/WLS34GPrGM', 'entities': {'description': {'urls': [{'display_url': 'reddit.com/r/sydney', 'expanded_url': 'http://reddit.com/r/sydney', 'indices': [28, 51], 'url': 'https://t.co/WLS34GPrGM'}]}, 'url': {'urls': [{'display_url': 'reddit.com/r/sydney', 'expanded_url': 'http://www.reddit.com/r/sydney', 'indices': [0, 23], 'url': 'https://t.co/DuI3TwUPHe'}]}}, 'favourites_count': 1, 'follow_request_sent': False, 'followers_count': 559, 'following': False, 'friends_count': 3, 'geo_enabled': False, 'has_extended_profile': False, 'id': 2425325605, 'id_str': '2425325605', 'is_translation_enabled': False, 'is_translator': False, 'lang': None, 'listed_count': 22, 'location': 'Sydney, Australia', 'name': 'SydneyReddit', 'notifications': False, 'profile_background_color': 'C0DEED', 'profile_background_image_url': 'http://abs.twimg.com/images/themes/theme1/bg.png', 'profile_background_image_url_https': 'https://abs.twimg.com/images/themes/theme1/bg.png', 'profile_background_tile': False, 'profile_banner_url': 'https://pbs.twimg.com/profile_banners/2425325605/1569837573', 'profile_image_url': 'http://pbs.twimg.com/profile_images/451646338782879744/JXf8B9JA_normal.png', 'profile_image_url_https': 'https://pbs.twimg.com/profile_images/451646338782879744/JXf8B9JA_normal.png', 'profile_link_color': '1DA1F2', 'profile_sidebar_border_color': 'C0DEED', 'profile_sidebar_fill_color': 'DDEEF6', 'profile_text_color': '333333', 'profile_use_background_image': True, 'protected': False, 'screen_name': 'SydneyReddit', 'statuses_count': 47869, 'time_zone': None, 'translator_type': 'none', 'url': 'https://t.co/DuI3TwUPHe', 'utc_offset': None, 'verified': False}\n",
      "\n",
      "--------------------------------------------------------------------------------\n"
     ]
    }
   ],
   "source": [
    "# YOU ARE REQUIRED TO INSERT YOUR CODE IN THIS CELL\n",
    "'''\n",
    "Write three function calls to load data from three json files you have saved from Part 1.\n",
    "'''\n",
    "\n",
    "k1_tweets = read_json_file(keywords[0] + \".json\") # INSERT YOUR CODE HERE\n",
    "k2_tweets = read_json_file(keywords[1] + \".json\") # INSERT YOUR CODE HERE\n",
    "k3_tweets = read_json_file(keywords[2] + \".json\") # INSERT YOUR CODE HERE\n",
    "\n",
    "for i in k1_tweets[0].keys():\n",
    "    print(\"{}: {}\".format(i, k1_tweets[0][i]))\n",
    "print()\n",
    "print(\"-\"*80)"
   ]
  },
  {
   "cell_type": "markdown",
   "metadata": {},
   "source": [
    "**Instruction 2.3**. To examine the number of tweets loaded from your data files, write your code to print out the number of tweets containes in three variables: ***k1_tweets, k2_tweets*** and ***k3_tweets***.\n",
    "\n",
    "[**Total mark: 3**]"
   ]
  },
  {
   "cell_type": "code",
   "execution_count": 15,
   "metadata": {},
   "outputs": [
    {
     "name": "stdout",
     "output_type": "stream",
     "text": [
      "the number of tweets containes in three variables:\n",
      "k1_tweets: 210\n",
      "k2_tweets: 210\n",
      "k3_tweets: 203\n"
     ]
    }
   ],
   "source": [
    "# YOU ARE REQUIRED TO INSERT YOUR CODE IN THIS CELL\n",
    "'''\n",
    "Write your code to print out the number of tweets containes in three variables: \n",
    "k1_tweets, k2_tweets and k3_tweets\n",
    "'''\n",
    "#INSERT YOUR CODE HERE\n",
    "print(\"the number of tweets containes in three variables:\")\n",
    "print(\"k1_tweets: {}\".format(len(k1_tweets)))\n",
    "print(\"k2_tweets: {}\".format(len(k2_tweets)))\n",
    "print(\"k3_tweets: {}\".format(len(k3_tweets)))\n"
   ]
  },
  {
   "cell_type": "markdown",
   "metadata": {},
   "source": [
    "**Note**. When analysing tweets and text documents in general, an important analytics skill is to pre-process and filter the data into the form that one can start to apply analytics methods to extract knowledge. \n",
    "\n",
    "Tweets that are too short might not be useful for analysis. We define that tweets having less than 50 characters are short and should be remove. "
   ]
  },
  {
   "cell_type": "markdown",
   "metadata": {},
   "source": [
    "**Instruction 2.4**. In this task, you need to filter all short tweets.\n",
    "\n",
    "1. Write a function called `is_short_tweet` that takes a tweet as an input and return True if the text of the tweet has less than 50 characters and False otherwise. **(6 marks)**\n",
    "\n",
    "2. Write your codes to remove all tweets that have less than 50 characters in variables ***k1_tweets***, ***k2_tweets*** and ***k3_tweets*** and store the results in the new variables ***k1_tweets_filtered***, ***k2_tweets_filtered*** and ***k3_tweets_filtered***, respectively. **(8 marks)**\n",
    "\n",
    "[**Total mark: 14**]"
   ]
  },
  {
   "cell_type": "code",
   "execution_count": 16,
   "metadata": {},
   "outputs": [],
   "source": [
    "# YOU ARE REQUIRED TO INSERT YOUR CODE IN THIS CELL\n",
    "def is_short_tweet(tweet):\n",
    "    '''\n",
    "    Check if the text of \"tweet\" has less than 50 characters\n",
    "    '''\n",
    "    # INSERT YOUR CODE HERE\n",
    "    ret = [i for i in tweet if len(i['text']) >= 50]\n",
    "    return ret"
   ]
  },
  {
   "cell_type": "code",
   "execution_count": 17,
   "metadata": {},
   "outputs": [
    {
     "name": "stdout",
     "output_type": "stream",
     "text": [
      "210 204\n",
      "210 173\n",
      "203 175\n"
     ]
    }
   ],
   "source": [
    "# YOU ARE REQUIRED TO INSERT YOUR CODES IN THIS CELL\n",
    "'''\n",
    "Write your codes to remove all tweets which have less than 50 characters in variables \n",
    "k1_tweets, k2_tweets and k3_tweets and store the results in the new variables \n",
    "k1_tweets_filtered, k2_tweets_filtered and k3_tweets_filtered respectively\n",
    "'''\n",
    "# INSERT YOUR CODE HERE\n",
    "k1_tweets_filtered = is_short_tweet(k1_tweets)\n",
    "k2_tweets_filtered = is_short_tweet(k2_tweets)\n",
    "k3_tweets_filtered = is_short_tweet(k3_tweets)\n",
    "\n",
    "# these lines below print the number of tweets for each keyword before and after filtered.\n",
    "print(len(k1_tweets), len(k1_tweets_filtered))\n",
    "print(len(k2_tweets), len(k2_tweets_filtered))\n",
    "print(len(k3_tweets), len(k3_tweets_filtered))"
   ]
  },
  {
   "cell_type": "markdown",
   "metadata": {},
   "source": [
    "**Instruction 2.5**. For each keyword, print out the number of tweets that have been removed.\n",
    "\n",
    "[**Total mark: 3**]"
   ]
  },
  {
   "cell_type": "code",
   "execution_count": 18,
   "metadata": {},
   "outputs": [
    {
     "name": "stdout",
     "output_type": "stream",
     "text": [
      "the number of tweets that have been removed: \n",
      "car: 6\n",
      "pizza: 37\n",
      "dance: 28\n"
     ]
    }
   ],
   "source": [
    "# YOU ARE REQUIRED TO INSERT YOUR CODE IN THIS CELL\n",
    "'''\n",
    "For each keyword, print out the number of tweets that have been removed.\n",
    "'''\n",
    "\n",
    "# INSERT YOUR CODE HERE\n",
    "print(\"the number of tweets that have been removed: \")\n",
    "print(\"{}: {}\".format(keywords[0], len(k1_tweets) - len(k1_tweets_filtered)))\n",
    "print(\"{}: {}\".format(keywords[1], len(k2_tweets) - len(k2_tweets_filtered)))\n",
    "print(\"{}: {}\".format(keywords[2], len(k3_tweets) - len(k3_tweets_filtered)))\n"
   ]
  },
  {
   "cell_type": "markdown",
   "metadata": {},
   "source": [
    "**Instruction 2.6**. To examine what the tweets look like after being loaded from the data files and filtered, in the cell below write your code to print out the first **5** tweets for each keyword. \n",
    "\n",
    "You **must** use the variables ***k1_tweets_filtered, k2_tweets_filtered*** and ***k3_tweets_filtered*** which have stored the data after the filtering process for this task.\n",
    "\n",
    "[**Total mark: 4**]"
   ]
  },
  {
   "cell_type": "code",
   "execution_count": 19,
   "metadata": {},
   "outputs": [
    {
     "name": "stdout",
     "output_type": "stream",
     "text": [
      "The first 5 tweets for \"car\":\n",
      "\n",
      "1: Big empty car parks to practice parking at night as a learner driver around Sydney? https://t.co/dM6xvy7loL #Sydney\n",
      "2: No, I’m new Bruce. Car’s okay https://t.co/xm0lWxFstX\n",
      "3: @06eleven @FantaRising tooth! the bloody car had better be right after all this angst\n",
      "4: @fagkth And you think women feel the same way? \n",
      "You think woman wants to walk down the street and be cat called, yo… https://t.co/5DaKNRXOtn\n",
      "5: Love this! It's the all-new S-Class. We shot a video on the 5 coolest features – like the digital headlights (2.6 m… https://t.co/DRQOgxpCbD\n",
      "\n",
      "The first 5 tweets for \"pizza\":\n",
      "\n",
      "1: @BigTeddyWindsor Well you go right ahead and have those beans on your pizza Teddy each to.their own.😂😂😂😂\n",
      "2: @ewanports @Yeti2319 @enzgolf @mikeclaytongolf Ran his pizza shops about 10 years ago legend of a bloke, remember h… https://t.co/acgOJEgTRQ\n",
      "3: @OverlordValente Saturday's were for Hey, hey it's Saturday! I loved Saturday's watching that in the bean bag eatin… https://t.co/nqnMiK95zw\n",
      "4: @taupe_cat You're the only one I reckon. The pizza looked amazing\n",
      "5: Do you think Guillaume is trolling us with some of these food combinations? Case in point that pizza from the other… https://t.co/5O6n3ToM0J\n",
      "\n",
      "The first 5 tweets for \"dance\":\n",
      "\n",
      "1: NOW ON AIR ⭕️ #DC33\n",
      "U.S.U.R.A. Open Your Mind\n",
      "\n",
      "STREAM: https://t.co/QwWGIM7eu9\n",
      "STREAM: https://t.co/jmIg7Txss7 https://t.co/njw2YU6VvM\n",
      "2: @3lizabethsmith By dance workout do you mean the WAP dance because if so then....respect, understand the thigh burn\n",
      "3: I went to dance tonight after missing the last couple of weeks because I was stuck at work and I NEVER WANT TO MISS… https://t.co/H4nSf417Qi\n",
      "4: @MAKNAECHANEL My wrecker and my bias came at me like something severe in this dance prac clip..Attacking like nobod… https://t.co/C2nqGwp9e3\n",
      "5: NOW ON AIR ⭕️ #DC33\n",
      "THE STEPPERS Who The Fuck Is Alice\n",
      "\n",
      "STREAM: https://t.co/QwWGIM7eu9\n",
      "STREAM:… https://t.co/mN4NQJD5VQ\n"
     ]
    }
   ],
   "source": [
    "# YOU ARE REQUIRED TO INSERT YOUR CODE IN THIS CELL\n",
    "'''\n",
    "Write your code to print out the first 5 tweets for each keyword.\n",
    "You must use the variables k1_tweets_filtered, k2_tweets_filtered and k3_tweets_filtered \n",
    "which have stored the data after the filtering process for this task.\n",
    "\n",
    "Hint: Using tweet['text'] for tweet in k1_tweets_filtered\n",
    "'''\n",
    "\n",
    "print('The first 5 tweets for \\\"{}\\\":\\n'.format(keywords[0]))\n",
    "# INSERT YOUR CODE HERE\n",
    "for i in range(5):\n",
    "    print(\"{}: {}\".format(i + 1, k1_tweets_filtered[i]['text']))\n",
    "\n",
    "print('\\nThe first 5 tweets for \\\"{}\\\":\\n'.format(keywords[1]))\n",
    "# INSERT YOUR CODE HERE \n",
    "for i in range(5):\n",
    "    print(\"{}: {}\".format(i + 1, k2_tweets_filtered[i]['text']))\n",
    "\n",
    "print('\\nThe first 5 tweets for \\\"{}\\\":\\n'.format(keywords[2]))\n",
    "# INSERT YOUR CODE HERE\n",
    "for i in range(5):\n",
    "    print(\"{}: {}\".format(i + 1, k3_tweets_filtered[i]['text']))"
   ]
  },
  {
   "cell_type": "markdown",
   "metadata": {},
   "source": [
    "### Part 2B: Constructing Term-by-Document Matrix\n",
    "\n",
    "As we have learned in our class, in text analytics and in general dealing with unstructured data, to start perform **computational** tasks such as computing the distance between two documents, we need to represent them in **numerical** formats. A popular technique we have learned is the bag-of-word representation and the term-by-document matrix, also known as the vector-space model.\n",
    "\n",
    "This part of the assignment will require you to construct the term-by-document matrix for the tweets stored in three variables ***k1_tweets_filtered***, ***k2_tweets_filtered*** and ***k3_tweets_filtered***."
   ]
  },
  {
   "cell_type": "markdown",
   "metadata": {},
   "source": [
    "**Note.** Tweets are often not neat as you might have seen from early tasks. As tweet such as this \n",
    "```\n",
    "Happy shopping👗👚👠👜 (with Vivi and Irmalia at @infomog) — https://t.co/fUGO9Eex1r\n",
    "```\n",
    "might contain non-ASCII characters, emoticon, punctuations, etc. Building a bag-of-word representation **without** pre-processing the data can be ineffective. \n",
    "\n",
    "The following function ***pre_process()*** has been designed to preprocess the data for you."
   ]
  },
  {
   "cell_type": "code",
   "execution_count": 20,
   "metadata": {},
   "outputs": [],
   "source": [
    "def remove_non_ascii(s): return \"\".join(i for i in s if ord(i)<128)\n",
    "def pre_process(doc):\n",
    "    \"\"\"\n",
    "    pre-processes a doc\n",
    "      * Converts the tweet into lower case,\n",
    "      * removes the URLs,\n",
    "      * removes the punctuations\n",
    "      * tokenizes the tweet\n",
    "      * removes words less that 3 characters\n",
    "    \"\"\"\n",
    "    \n",
    "    doc = doc.lower()\n",
    "    # getting rid of non ascii codes\n",
    "    doc = remove_non_ascii(doc)\n",
    "    \n",
    "    # replacing URLs\n",
    "    url_pattern = \"http://[^\\s]+|https://[^\\s]+|www.[^\\s]+|[^\\s]+\\.com|bit.ly/[^\\s]+\"\n",
    "    doc = re.sub(url_pattern, 'url', doc) \n",
    "\n",
    "    # removing dollars and usernames and other unnecessary stuff\n",
    "    userdoll_pattern = \"\\$[^\\s]+|\\@[^\\s]+|\\&[^\\s]+|\\*[^\\s]+|[0-9][^\\s]+|\\~[^\\s]+\"\n",
    "    doc = re.sub(userdoll_pattern, '', doc)\n",
    "    \n",
    "    \n",
    "    # removing punctuation\n",
    "    punctuation = r\"\\(|\\)|#|\\'|\\\"|-|:|\\\\|\\/|!|\\?|_|,|=|;|>|<|\\.|\\@\"\n",
    "    doc = re.sub(punctuation, ' ', doc)\n",
    "    \n",
    "    return [w for w in doc.split() if len(w) > 2]"
   ]
  },
  {
   "cell_type": "markdown",
   "metadata": {},
   "source": [
    "**Note**. For example, the following code will display the first tweet stored in the variable ***k1_tweets_filtered*** (for the first keyword) before and after it has been pre-processed."
   ]
  },
  {
   "cell_type": "code",
   "execution_count": 21,
   "metadata": {},
   "outputs": [
    {
     "name": "stdout",
     "output_type": "stream",
     "text": [
      "Big empty car parks to practice parking at night as a learner driver around Sydney? https://t.co/dM6xvy7loL #Sydney\n",
      "big empty car parks practice parking night learner driver around sydney url sydney\n"
     ]
    }
   ],
   "source": [
    "tweet_k1 = k1_tweets_filtered[0]['text']\n",
    "tweet_k1_processed = pre_process(tweet_k1)\n",
    "\n",
    "print(tweet_k1)\n",
    "# tweet_k1_processed is now a list of words. \n",
    "# We use ' '.join() method to join the list to a string.\n",
    "print(' '.join(tweet_k1_processed))"
   ]
  },
  {
   "cell_type": "markdown",
   "metadata": {},
   "source": [
    "**Instruction 2.7**. Use the example above, write your code to display the **first** tweets stored in the variables ***k2_tweets_filtered*** and ***k2_tweets_filtered*** before and after they have been pre-processed using the function ***pre_process()*** supplied earlier.\n",
    "\n",
    "[**Total mark: 4**]"
   ]
  },
  {
   "cell_type": "code",
   "execution_count": 22,
   "metadata": {},
   "outputs": [
    {
     "name": "stdout",
     "output_type": "stream",
     "text": [
      "before: @BigTeddyWindsor Well you go right ahead and have those beans on your pizza Teddy each to.their own.😂😂😂😂;\n",
      "after: well you right ahead and have those beans your pizza teddy each their own.\n",
      "\n",
      "before: NOW ON AIR ⭕️ #DC33\n",
      "U.S.U.R.A. Open Your Mind\n",
      "\n",
      "STREAM: https://t.co/QwWGIM7eu9\n",
      "STREAM: https://t.co/jmIg7Txss7 https://t.co/njw2YU6VvM;\n",
      "after: now air open your mind stream url stream url url.\n",
      "\n"
     ]
    }
   ],
   "source": [
    "# YOU ARE REQUIRED TO INSERT YOUR CODE IN THIS CELL\n",
    "'''\n",
    "Use the example above, write your code to display the first tweets stored in \n",
    "the variables k2_tweets_filtered and k3_tweets_filtered before and after they \n",
    "have been pre-processed using the function pre_process() supplied earlier.\n",
    "'''\n",
    "\n",
    "# INSERT YOUR CODE HERE\n",
    "tweet_k2_processed = pre_process(k2_tweets_filtered[0]['text'])\n",
    "print(\"before: {};\\nafter: {}.\\n\".format(k2_tweets_filtered[0]['text'], ' '.join(tweet_k2_processed)))\n",
    "\n",
    "tweet_k3_processed = pre_process(k3_tweets_filtered[0]['text'])\n",
    "print(\"before: {};\\nafter: {}.\\n\".format(k3_tweets_filtered[0]['text'], ' '.join(tweet_k3_processed)))\n"
   ]
  },
  {
   "cell_type": "markdown",
   "metadata": {},
   "source": [
    "**Instruction 2.8**. Write your code to pre-process and clean up all tweets stored in the variable ***k1_tweets_filtered***, ***k2_tweets_filtered*** and ***k3_tweets_filtered*** using the function ***pre_process()*** to result in new variables ***k1_tweets_processed***, ***k2_tweets_processed*** and ***k3_tweets_processed***.\n",
    "\n",
    "[**Total mark: 6**]"
   ]
  },
  {
   "cell_type": "code",
   "execution_count": 23,
   "metadata": {},
   "outputs": [],
   "source": [
    "# YOU ARE REQUIRED TO INSERT YOUR CODE IN THIS CELL\n",
    "'''\n",
    "Write your code to pre-process and clean up all tweets \n",
    "stored in the variable k1_tweets_filtered, k2_tweets_filtered and k3_tweets_filtered using the \n",
    "function pre_process() to result in new variables k1_tweets_processed, k2_tweets_processed \n",
    "and k3_tweets_processed.\n",
    "'''\n",
    "# INSERT YOUR CODE HERE\n",
    "k1_tweets_processed, k2_tweets_processed, k3_tweets_processed = [], [], []\n",
    "for i in k1_tweets_filtered:\n",
    "    k1_tweets_processed.append(pre_process(i['text']))\n",
    "for i in k2_tweets_filtered:\n",
    "    k2_tweets_processed.append(pre_process(i['text']))\n",
    "for i in k3_tweets_filtered:\n",
    "    k3_tweets_processed.append(pre_process(i['text']))"
   ]
  },
  {
   "cell_type": "markdown",
   "metadata": {},
   "source": [
    "**Instruction 2.9**. Now, write your code to print out the **first 5 processed tweets** for each keyword *(the processed tweets are stored in **k1_tweets_processed**, **k2_tweets_processed** and **k3_tweets_processed**)*\n",
    "\n",
    "[**Total mark: 7**]"
   ]
  },
  {
   "cell_type": "code",
   "execution_count": 24,
   "metadata": {
    "scrolled": true
   },
   "outputs": [
    {
     "name": "stdout",
     "output_type": "stream",
     "text": [
      "The first 5 processed tweets for k1_tweets_processed:\n",
      "1: big empty car parks practice parking night learner driver around sydney url sydney\n",
      "2: new bruce cars okay url\n",
      "3: tooth the bloody car had better right after all this angst\n",
      "4: and you think women feel the same way you think woman wants walk down the street and cat called url\n",
      "5: love this the all new class shot video the coolest features like the digital headlights url\n",
      "\n",
      "The first 5 processed tweets for k2_tweets_processed:\n",
      "1: well you right ahead and have those beans your pizza teddy each their own\n",
      "2: ran his pizza shops about years ago legend bloke remember url\n",
      "3: saturday were for hey hey saturday loved saturday watching that the bean bag eatin url\n",
      "4: you the only one reckon the pizza looked amazing\n",
      "5: you think guillaume trolling with some these food combinations case point that pizza from the other url\n",
      "\n",
      "The first 5 processed tweets for k3_tweets_processed:\n",
      "1: now air open your mind stream url stream url url\n",
      "2: dance workout you mean the wap dance because then respect understand the thigh burn\n",
      "3: went dance tonight after missing the last couple weeks because was stuck work and never want miss url\n",
      "4: wrecker and bias came like something severe this dance prac clip attacking like nobod url\n",
      "5: now air the steppers who the fuck alice stream url stream url\n"
     ]
    }
   ],
   "source": [
    "# YOU ARE REQUIRED TO INSERT YOUR CODE IN THIS CELL\n",
    "'''\n",
    "Now write your code to print out the first 5 processed tweets for each keyword.\n",
    "Hint: Each tweet in tweets_processed is now a list of words, not a string. \n",
    "      To print a string, you might need to use ' '.join(tweet), \n",
    "      when tweet is a processed tweet\n",
    "\n",
    "'''\n",
    "\n",
    "print('The first 5 processed tweets for k1_tweets_processed:')\n",
    "# INSERT YOUR CODE HERE\n",
    "for i in range(5):\n",
    "    print(\"{}: {}\".format(i + 1, ' '.join(k1_tweets_processed[i])))\n",
    "\n",
    "\n",
    "print('\\nThe first 5 processed tweets for k2_tweets_processed:')\n",
    "# INSERT YOUR CODE HERE\n",
    "for i in range(5):\n",
    "    print(\"{}: {}\".format(i + 1, ' '.join(k2_tweets_processed[i])))\n",
    "\n",
    "\n",
    "print('\\nThe first 5 processed tweets for k3_tweets_processed:')\n",
    "# INSERT YOUR CODE HERE\n",
    "for i in range(5):\n",
    "    print(\"{}: {}\".format(i + 1, ' '.join(k3_tweets_processed[i])))"
   ]
  },
  {
   "cell_type": "markdown",
   "metadata": {},
   "source": [
    "**Note**. The following function ***construct_termdoc()*** has been implemented to construct the term-by-document matrix from a corpus of text data. **You will need this function for subsequent task**."
   ]
  },
  {
   "cell_type": "code",
   "execution_count": 25,
   "metadata": {},
   "outputs": [],
   "source": [
    "def construct_termdoc(docs, vocab=[]):\n",
    "    \"\"\"\n",
    "    Construct a term-by-document-matrix\n",
    "    \n",
    "    docs: corpus\n",
    "    vocab: pre-defined vocabulary\n",
    "           if not supplied it will be automatically induced from the data\n",
    "    \n",
    "    returns the term-by-document matrix and the vocabulary of the passed corpus\n",
    "    \"\"\"\n",
    "    \n",
    "    # vocab is not passed\n",
    "    if vocab == []:\n",
    "        vocab = set()\n",
    "        termdoc_sparse = []\n",
    "\n",
    "        for doc in docs:\n",
    "            # computes the frequencies of doc\n",
    "            doc_sparse = Counter(doc)\n",
    "            termdoc_sparse.append(doc_sparse)\n",
    "            \n",
    "            # update the vocab\n",
    "            vocab.update(doc_sparse.keys())  \n",
    "\n",
    "        vocab = list(vocab)\n",
    "        vocab.sort()\n",
    "    \n",
    "    else:\n",
    "        termdoc_sparse = []        \n",
    "        for doc in docs:\n",
    "            termdoc_sparse.append(Counter(doc))\n",
    "            \n",
    "\n",
    "    n_docs = len(docs)\n",
    "    n_vocab = len(vocab)\n",
    "    termdoc_dense = np.zeros((n_docs, n_vocab), dtype=int)\n",
    "\n",
    "    for j, doc_sparse in enumerate(termdoc_sparse):\n",
    "        for term, freq in doc_sparse.items():\n",
    "            try:\n",
    "                termdoc_dense[j, vocab.index(term)] = freq\n",
    "            except:\n",
    "                pass\n",
    "            \n",
    "    return termdoc_dense, vocab"
   ]
  },
  {
   "cell_type": "markdown",
   "metadata": {},
   "source": [
    "**Instruction 2.10 (D)**. In the function ***construct_termdoc()***, a function **set** is used. Learn what this function does and explain its role in the function ***construct_termdoc()***. Write a brief answer.\n",
    "\n",
    "[**Total mark: 5**]"
   ]
  },
  {
   "cell_type": "code",
   "execution_count": 26,
   "metadata": {},
   "outputs": [],
   "source": [
    "# In the function construct_termdoc(), a function \"set\" is used. Learn what this function does \n",
    "# and explain its role in the function construct_termdoc().\n",
    "# YOU ARE REQUIRED TO INSERT YOUR COMMENT IN THIS CELL\n",
    "# \n",
    "# `set` is a unordered collection of unique elements. It ensures that each word only appears once.\n",
    "# When constructing the vocabulary list: `vocab`, the words in the list only appear once, Otherwise `n_vocab`/index of word term will go wrong.\n",
    "# The function returns `termdoc_dense` which is the word position and word position in the dictionary and its corresponding word frequency."
   ]
  },
  {
   "cell_type": "markdown",
   "metadata": {},
   "source": [
    "**Note**. Now suppose that we would like to construct a term-by-document matrix for tweets collected for the **first keyword only**. The following piece of codes will do this by computing the term-by-document matrix and the vocabulary for tweets stored in **k1_tweets_processed**, print them out and visualise the corresponding term-by-document matrix stored in the variable ***k1_termdoc***. The corresponding vocabulary dictionary computed from this data will also be stored in the variable ***k1_vocab***."
   ]
  },
  {
   "cell_type": "code",
   "execution_count": 27,
   "metadata": {},
   "outputs": [
    {
     "name": "stdout",
     "output_type": "stream",
     "text": [
      "[[0 0 0 ... 0 0 0]\n",
      " [0 0 0 ... 0 0 0]\n",
      " [0 0 0 ... 0 0 0]\n",
      " ...\n",
      " [0 0 0 ... 0 0 0]\n",
      " [0 0 1 ... 0 0 0]\n",
      " [0 0 0 ... 0 0 0]]\n",
      "you your youth youve zoom\n"
     ]
    },
    {
     "data": {
      "text/plain": [
       "Text(0.5,1,'Term-by-Document matrix from tweets collected for keyword \"car\"')"
      ]
     },
     "execution_count": 27,
     "metadata": {},
     "output_type": "execute_result"
    },
    {
     "data": {
      "image/png": "[encoded data removed]",
      "text/plain": [
       "<Figure size 720x360 with 1 Axes>"
      ]
     },
     "metadata": {},
     "output_type": "display_data"
    }
   ],
   "source": [
    "'''\n",
    "compute the term-by-document matrix and the the dictionary from the collection of \n",
    "tweets collected for the first keyword\n",
    "'''\n",
    "k1_termdoc, k1_vocab = construct_termdoc(k1_tweets_processed)\n",
    "\n",
    "# print out the term-by-document matrix\n",
    "print(k1_termdoc)\n",
    "# for i in range(k1_termdoc.shape[0]):\n",
    "#     for j in range(k1_termdoc.shape[1]):\n",
    "#         if k1_termdoc[i][j] > 2:\n",
    "#             print(k1_termdoc[i][j])\n",
    "# print out the first 5 vocabulary entries\n",
    "print(' '.join(k1_vocab[-5:]))  # print out only the first 5 vocabulary entries\n",
    "\n",
    "# visualise the term-by-document matrix\n",
    "fig, ax = plt.subplots(figsize=(10, 5))\n",
    "ax.imshow(k1_termdoc)\n",
    "ax.set_xlabel('term (vocabulary)')\n",
    "ax.set_ylabel('documents (tweets)')\n",
    "ax.set_title('Term-by-Document matrix from tweets collected for keyword \\\"{}\\\"'.format(keywords[0]))"
   ]
  },
  {
   "cell_type": "markdown",
   "metadata": {},
   "source": [
    "**Note**. Next, we would like to compute the pairwise distances between every two tweets. This will help us to see how similar tweets are. This is a computational task that would be *not* possible to do if we use the raw tweets.\n",
    "\n",
    "However, with the term-by-document matrix, each tweet now is vector and corresponds to a row in the term-by-document matrix. Hence, we can use the distance between vectors to compute the distance between tweets. This is also known as the **vector space model** in information retrieval literature."
   ]
  },
  {
   "cell_type": "markdown",
   "metadata": {},
   "source": [
    "**Instruction 2.11**. Your tasks are:\n",
    "\n",
    "1. Define a function to compute and return the Euclidean distance between two vectors as we have learned from the class notes. **(5 marks)**\n",
    "\n",
    "2. Define a function to compute and return the cosine distance between two vectors as we have learned from the class notes. **(5 marks)**\n",
    "\n",
    "3. Construct a single function that returns two distance matrices ***euclidean_distance_matrix***, and ***cosine_distance_matrix***, whose elements (i,j) store the Eulidean distance and the cosine distance between tweets i-th and i-jth. **You will need this function for subsequent task**. **(6 marks)**\n",
    "\n",
    "**[Total mark: 16]**"
   ]
  },
  {
   "cell_type": "code",
   "execution_count": 28,
   "metadata": {},
   "outputs": [],
   "source": [
    "# YOU ARE REQUIRED TO INSERT YOUR CODE IN THIS CELL\n",
    "import math\n",
    "\n",
    "def Euclidean_distance(x,y):\n",
    "    '''\n",
    "    Compute and return the Euclidean distance between two vectors x and y\n",
    "    '''\n",
    "    # INSERT YOUR CODE HERE\n",
    "    return math.sqrt(sum([(a - b) ** 2 for a, b in zip(x, y)]))"
   ]
  },
  {
   "cell_type": "code",
   "execution_count": 29,
   "metadata": {},
   "outputs": [],
   "source": [
    "# YOU ARE REQUIRED TO INSERT YOUR CODE IN THIS CELL\n",
    "def cosine_distance(x,y):\n",
    "    '''\n",
    "    Compute and return the cosine distance between two vectors x and y\n",
    "    '''\n",
    "    # INSERT YOUR CODE HERE\n",
    "    import math\n",
    "    rn = range(len(x))\n",
    "    adb = sum([x[k]*y[k] for k in rn])\n",
    "    nma = math.sqrt(sum([x[k]*x[k] for k in rn]))\n",
    "    nmb = math.sqrt(sum([y[k]*y[k] for k in rn]))\n",
    "\n",
    "    return adb / (nma*nmb)"
   ]
  },
  {
   "cell_type": "code",
   "execution_count": 30,
   "metadata": {},
   "outputs": [],
   "source": [
    "# YOU ARE REQUIRED TO INSERT YOUR CODE IN THIS CELL\n",
    "'''\n",
    "The function takes the termdoc matrix as the input and computes variables called \"euclidean_distance_matrix\" \n",
    "and \"cosine_distance_matrix\", which are matrices whose elements (i,j) store the Eulidean distance \n",
    "and the cosine distance between tweet i-th and i-jth.\n",
    "\n",
    "Hint: you should store the distance matrices in numpy arrays for easier implementation in subsequent tasks\n",
    "'''\n",
    "import numpy as np\n",
    "import tqdm\n",
    "def compute_distance_matrices(termdoc):\n",
    "    # INSERT YOUR CODE HERE\n",
    "    euclidean_distance_matrix, cosine_distance_matrix = np.zeros((termdoc.shape[0], termdoc.shape[0])), np.zeros((termdoc.shape[0], termdoc.shape[0]))    \n",
    "    # compute doc_i and doc_j:\n",
    "    for i in tqdm.trange(termdoc.shape[0]):\n",
    "        for j in range(termdoc.shape[0]):\n",
    "            euclidean_distance_matrix[i][j] = Euclidean_distance(termdoc[i, :], termdoc[j, :])\n",
    "            cosine_distance_matrix[i][j] = cosine_distance(termdoc[i, :], termdoc[j, :])\n",
    "\n",
    "    return euclidean_distance_matrix, cosine_distance_matrix"
   ]
  },
  {
   "cell_type": "markdown",
   "metadata": {},
   "source": [
    "**Instruction 2.12**. \n",
    "\n",
    "1. Now you need to compute the distance matrices for **k1_termdoc** and then visualise these distance matrices. **(10 marks)**\n",
    "\n",
    "2. Explain why cosine distance is always in the range between 0 and 1. **(5 marks)**\n",
    "\n",
    "3. (HD) Using a scatter plot demonstrate relationship between Euclidean distance and cosine distance. **(5 marks)**\n",
    "\n",
    "4. (HD) Explain why cosine distance increases if Euclidean distance decreases and vice versa. **(5 marks)**\n",
    "\n",
    "\n",
    "**[Total mark: 25]**"
   ]
  },
  {
   "cell_type": "code",
   "execution_count": 31,
   "metadata": {},
   "outputs": [
    {
     "name": "stderr",
     "output_type": "stream",
     "text": [
      "100%|████████████████████████████████████████████████████████████████████████████████| 204/204 [01:57<00:00,  1.73it/s]\n"
     ]
    }
   ],
   "source": [
    "eucl, cosi = compute_distance_matrices(k1_termdoc)"
   ]
  },
  {
   "cell_type": "code",
   "execution_count": null,
   "metadata": {},
   "outputs": [
    {
     "name": "stderr",
     "output_type": "stream",
     "text": [
      " 25%|███████████████████▊                                                             | 50/204 [00:27<01:50,  1.40it/s]"
     ]
    }
   ],
   "source": [
    "# YOU ARE REQUIRED TO INSERT YOUR CODE IN THIS CELL\n",
    "\n",
    "# compute the distance matrices for k1_termdoc using the function \"compute_distance_matrices\"\n",
    "# INSERT YOUR CODE HERE\n",
    "\n",
    "# Visualise the distance matrices for this keyword\n",
    "# Hint: use imshow() and colorbar() functions\n",
    "# INSERT YOUR CODE HERE\n",
    "\n",
    "eucl, cosi = compute_distance_matrices(k1_termdoc)\n",
    "fig, (ax1, ax2) = plt.subplots(figsize=(10, 5), ncols=2)\n",
    "pos1 = ax1.imshow(eucl)\n",
    "fig.colorbar(pos1, ax=ax1)\n",
    "\n",
    "pos2 = ax2.imshow(cosi, cmap='Set1')\n",
    "fig.colorbar(pos2, ax=ax2)"
   ]
  },
  {
   "cell_type": "code",
   "execution_count": null,
   "metadata": {},
   "outputs": [],
   "source": [
    "# Explain why cosine distance is always in the range between 0 and 1.\n",
    "# YOU ARE REQUIRED TO INSERT YOUR COMMENT IN THIS CELL\n",
    "\n",
    "# **Solution:**\n",
    "# From the formula of cosine distance, we can see that the inner product of two vectors is positive, because each component of these two vectors is positive.\n",
    "# In addition, from Cauchy's inequality (or Jensen's inequality), it can be known that the numerator of the cosine distance is smaller than the denominator, so the total is less than 1."
   ]
  },
  {
   "cell_type": "code",
   "execution_count": null,
   "metadata": {},
   "outputs": [],
   "source": [
    "# Using a scatter plot demonstrate relationship between Euclidean distance and cosine distance.\n",
    "# YOU ARE REQUIRED TO INSERT YOUR CODE IN THIS CELL\n",
    "# INSERT YOUR CODE HERE\n",
    "x = eucl.flatten()\n",
    "y = cosi.flatten()\n",
    "plt.scatter(x, y, alpha=0.8)\n",
    "plt.show()"
   ]
  },
  {
   "cell_type": "code",
   "execution_count": null,
   "metadata": {},
   "outputs": [],
   "source": [
    "# Explain why cosine distance increases if Euclidean distance decreases and vice versa.\n",
    "# YOU ARE REQUIRED TO INSERT YOUR COMMENT IN THIS CELL\n",
    "\n",
    "# **Solution:**\n",
    "## 1. Visually, Euclidean distance measures the distance between vectors, while cosine similarity is the similarity between vectors.\n",
    "## The two vectors have high similarity (the value becomes larger), and the natural distance is closer (the value becomes smaller).\n",
    "## 2. Formally, the Euclidean distance expression measures the different degrees between each component of the vector, and is the subtraction of components.\n",
    "## But cosine distance normalized measures the magnitude of the inner product of two vectors."
   ]
  },
  {
   "cell_type": "markdown",
   "metadata": {},
   "source": [
    "**Instruction 2.13**. Similar to the example above for the first keyword, your task is to write codes in the cell below to compute the term-by-document matrix and the vocabulary for tweets stored in ***k2_tweets_processed***, print out the first **5** vocabularies and visualise this term-by-document matrix.\n",
    "\n",
    "[**Total mark: 5**]"
   ]
  },
  {
   "cell_type": "code",
   "execution_count": null,
   "metadata": {},
   "outputs": [],
   "source": [
    "# YOU ARE REQUIRED TO INSERT YOUR CODE IN THIS CELL\n",
    "'''\n",
    "Write your codes to compute the term-by-document matrix and the vocabulary for tweets stored \n",
    "in k2_tweets_processed\n",
    "'''\n",
    "# INSERT YOUR CODE HERE\n",
    "'''\n",
    "compute the term-by-document matrix and the the dictionary from the collection of \n",
    "tweets collected for the first keyword\n",
    "'''\n",
    "k2_termdoc, k2_vocab = construct_termdoc(k2_tweets_processed)\n",
    "\n",
    "# print out the term-by-document matrix\n",
    "print(k2_termdoc)\n",
    "# print out the first 5 vocabulary entries\n",
    "print(' '.join(k2_vocab[-5:]))  # print out only the first 5 vocabulary entries\n",
    "\n",
    "# visualise the term-by-document matrix\n",
    "fig, ax = plt.subplots(figsize=(10, 5))\n",
    "pos = ax.imshow(k2_termdoc, cmap='Reds')\n",
    "fig.colorbar(pos, ax=ax)\n",
    "ax.set_xlabel('term (vocabulary)')\n",
    "ax.set_ylabel('documents (tweets)')\n",
    "ax.set_title('Term-by-Document matrix from tweets collected for keyword \\\"{}\\\"'.format(keywords[1]))"
   ]
  },
  {
   "cell_type": "markdown",
   "metadata": {},
   "source": [
    "***Instruction 2.14***. Next, your task is to write codes in the cell below to calculate the pairwise distance matrix for tweets collected for **second** keyword. Store this distance matrix in the variable named ***k2_euclidean_distances*** and **visualise** this matrix.\n",
    "\n",
    "[**Total mark: 10**]"
   ]
  },
  {
   "cell_type": "code",
   "execution_count": null,
   "metadata": {},
   "outputs": [],
   "source": [
    "# YOU ARE REQUIRED TO INSERT YOUR CODE IN THIS CELL\n",
    "\n",
    "# compute the distance matrix for k1_termdoc using the function \"compute_euclidean_distance_matrix\"\n",
    "# INSERT YOUR CODE HERE\n",
    "\n",
    "# Visualise the distance matrix for this keyword\n",
    "# Hint: use imshow() and colorbar() functions\n",
    "# INSERT YOUR CODE HERE\n",
    "\n",
    "\n",
    "eucl2, cosi2 = compute_distance_matrices(k2_termdoc)\n",
    "fig, (ax1, ax2) = plt.subplots(figsize=(10, 5), ncols=2)\n",
    "pos1 = ax1.imshow(eucl2)\n",
    "fig.colorbar(pos1, ax=ax1)\n",
    "\n",
    "pos2 = ax2.imshow(cosi2, cmap='gnuplot')\n",
    "fig.colorbar(pos2, ax=ax2)\n"
   ]
  },
  {
   "cell_type": "markdown",
   "metadata": {},
   "source": [
    "**Instruction 2.15**. Similarly, your task is to write codes in the cell below to compute the term-by-document matrix and the vocabulary for tweets stored in ***k3_tweets_processed***, print out the first **5** vocabularies and visualise this term-by-document matrix.\n",
    "\n",
    "[**Total mark: 5**]"
   ]
  },
  {
   "cell_type": "code",
   "execution_count": null,
   "metadata": {},
   "outputs": [],
   "source": [
    "# YOU ARE REQUIRED TO INSERT YOUR CODE IN THIS CELL\n",
    "'''\n",
    "Write your codes to compute the term-by-document matrix and the vocabulary for tweets stored \n",
    "in k3_tweets_processed\n",
    "'''\n",
    "# INSERT YOUR CODE HERE\n",
    "\n",
    "k3_termdoc, k3_vocab = construct_termdoc(k3_tweets_processed)\n",
    "\n",
    "# print out the term-by-document matrix\n",
    "print(k3_termdoc)\n",
    "# print out the first 5 vocabulary entries\n",
    "print(' '.join(k3_vocab[-5:]))  # print out only the first 5 vocabulary entries\n",
    "\n",
    "# visualise the term-by-document matrix\n",
    "fig, ax = plt.subplots(figsize=(10, 5))\n",
    "pos = ax.imshow(k3_termdoc, cmap='coolwarm')\n",
    "fig.colorbar(pos, ax=ax)\n",
    "ax.set_xlabel('term (vocabulary)')\n",
    "ax.set_ylabel('documents (tweets)')\n",
    "ax.set_title('Term-by-Document matrix from tweets collected for keyword \\\"{}\\\"'.format(keywords[2]))"
   ]
  },
  {
   "cell_type": "markdown",
   "metadata": {},
   "source": [
    "***Instruction 2.16***. Next, your task is to write codes in the cell below to calculate the pairwise distance matrix for tweets collected for **third** keyword. Store this distance matrix in the variable named ***k3_euclidean_distances*** and visualise this matrix.\n",
    "\n",
    "[**Total mark: 5**]"
   ]
  },
  {
   "cell_type": "code",
   "execution_count": null,
   "metadata": {},
   "outputs": [],
   "source": [
    "# YOU ARE REQUIRED TO INSERT YOUR CODE IN THIS CELL\n",
    "\n",
    "# compute the distance matrices for k1_termdoc using the function \"compute_distance_matrices\"\n",
    "# INSERT YOUR CODE HERE\n",
    "\n",
    "# Visualise the distance matrix for this keyword\n",
    "# Hint: use imshow() and colorbar() functions\n",
    "# INSERT YOUR CODE HERE\n",
    "\n",
    "eucl3, cosi3 = compute_distance_matrices(k3_termdoc)\n",
    "fig, (ax1, ax2) = plt.subplots(figsize=(10, 5), ncols=2)\n",
    "pos1 = ax1.imshow(eucl3)\n",
    "fig.colorbar(pos1, ax=ax1)\n",
    "\n",
    "pos2 = ax2.imshow(cosi3, cmap='summer')\n",
    "fig.colorbar(pos2, ax=ax2)"
   ]
  },
  {
   "cell_type": "markdown",
   "metadata": {},
   "source": [
    "***Instruction 2.17 (HD)***. Compare the ranges of the values for cosine and Euclidean distances. Explain why the ranges are different. Think about the best example to explain why cosine distance is more convenient than Euclidean distance for text analysis.\n",
    "\n",
    "[**Total mark: 5**]"
   ]
  },
  {
   "cell_type": "code",
   "execution_count": null,
   "metadata": {},
   "outputs": [],
   "source": [
    "# Compare the ranges of the values for cosine and Euclidean distances. \n",
    "# Explain why the ranges are different. Explain why cosine distance \n",
    "# is more convenient than Euclidean distance for text analysis.\n",
    "#\n",
    "# YOU ARE REQUIRED TO INSERT YOUR COMMENT IN THIS CELL\n",
    "#\n",
    "# **Solution:**\n",
    "# The range of cosine distance is 0~1, and the range of Euclidean distance is 0~ infinity.\n",
    "# The corpus in text analysis is huge, and the use of Euclidean distance may make the vectors in the high-dimensional space very sparse, causing difficulties in calculation and other operations."
   ]
  },
  {
   "cell_type": "markdown",
   "metadata": {},
   "source": [
    "### Part 2C: Data Clustering\n",
    "\n",
    "Thus far in this assignment, we have collected tweets for each keyword and analysed them seperately. We have constructed the term-by-document matrix for each collection of tweets seperately. A fundemantal and common task in data science, analytics, machine learning, science and engineering is **clustering**. This is also known as unsupervised learning or exploratory data analysis as we have learned in our classes.\n",
    "\n",
    "This part of this assignment will use the Kmeans algorithm learned in our classes to cluster the **entire** colllection of tweets collected for **all** keywords. To do so, we need to compute the **distance** between **any** two pair of tweets. This requires us to compute a **joint** term-by-document matrix for all tweets.\n",
    "\n",
    "The reason that we **cannot** use the individual term-by-document matrices computed earlier (e.g.,***k1_termdoc, k2_termdoc, k3_termdoc***) for this task is because they have different dictionary sizes. Hence, tweets collected for different keywords have been represented by vectors of different dimension. \n",
    "\n",
    "The following piece of codes will help you to inspect these dimensions."
   ]
  },
  {
   "cell_type": "code",
   "execution_count": null,
   "metadata": {},
   "outputs": [],
   "source": [
    "print('Dimension of the term-by-document matrix for keyword \\\"{}\\\":'.format(keywords[0]))\n",
    "print('{} x {}\\n'.format(k1_termdoc.shape[0],k1_termdoc.shape[1]))\n",
    "\n",
    "print('Dimension of the term-by-document matrix for keyword \\\"{}\\\":'.format(keywords[1]))\n",
    "print('{} x {}\\n'.format(k2_termdoc.shape[0],k2_termdoc.shape[1]))\n",
    "\n",
    "print('Dimension of the term-by-document matrix for keyword \\\"{}\\\":'.format(keywords[2]))\n",
    "print('{} x {}\\n'.format(k3_termdoc.shape[0],k3_termdoc.shape[1]))"
   ]
  },
  {
   "cell_type": "markdown",
   "metadata": {},
   "source": [
    "**Note**. First, we need to gather all tweets together into a new variable named **all_tweets_processed** using the piece of codes below."
   ]
  },
  {
   "cell_type": "code",
   "execution_count": null,
   "metadata": {},
   "outputs": [],
   "source": [
    "all_tweets_processed = k1_tweets_processed + k2_tweets_processed + k3_tweets_processed"
   ]
  },
  {
   "cell_type": "markdown",
   "metadata": {},
   "source": [
    "**Instruction 2.18**. Your task is to write codes in the cell below to compute the term-by-document matrix and the vocabulary for all tweets stored in ***all_tweets_processed***, print out the first 5 vocabularies and visualise this term-by-document matrix.\n",
    "\n",
    "[**Total marks: 5**]"
   ]
  },
  {
   "cell_type": "code",
   "execution_count": null,
   "metadata": {},
   "outputs": [],
   "source": [
    "# YOU ARE REQUIRED TO INSERT YOUR CODE IN THIS CELL\n",
    "'''\n",
    "Write your codes to compute the term-by-document matrix and the vocabulary for all tweets stored \n",
    "in all_tweets_processed\n",
    "'''\n",
    "\n",
    "all_termdoc, all_vocab = construct_termdoc(all_tweets_processed)# INSERT YOUR CODE HERE\n",
    "\n",
    "'''\n",
    "Write your code print out the first 5 vocabularies \n",
    "'''\n",
    "# INSERT YOUR CODE HERE\n",
    "print(' '.join(all_vocab[:5]))\n",
    "\n",
    "'''\n",
    "Write your code to visualise the term-by-document matrix\n",
    "'''\n",
    "# INSERT YOUR CODE HERE\n",
    "fig, ax = plt.subplots(figsize=(10, 5))\n",
    "pos = ax.imshow(all_termdoc)\n",
    "fig.colorbar(pos, ax=ax)\n",
    "ax.set_xlabel('term (vocabulary)')\n",
    "ax.set_ylabel('documents (tweets)')\n",
    "ax.set_title('Term-by-Document matrix from tweets collected for keyword \\\"{}\\\"'.format(keywords[0] + \"  \" + keywords[1] + \"  \" + keywords[2]))          "
   ]
  },
  {
   "cell_type": "markdown",
   "metadata": {},
   "source": [
    "**Instruction 2.19**. Next, your task is to write codes in the cell below to calculate the pairwise distance matrix for all tweets collected. Store this distance matrix in the variable named ***all_euclidean_distances*** and visualise this matrix.\n",
    "\n",
    "[**Total mark: 5**]"
   ]
  },
  {
   "cell_type": "code",
   "execution_count": 49,
   "metadata": {},
   "outputs": [
    {
     "name": "stderr",
     "output_type": "stream",
     "text": [
      "100%|████████████████████████████████████████████████████████████████████████████████| 561/561 [27:29<00:00,  2.94s/it]\n"
     ]
    },
    {
     "data": {
      "text/plain": [
       "<matplotlib.colorbar.Colorbar at 0x1c8782de978>"
      ]
     },
     "execution_count": 49,
     "metadata": {},
     "output_type": "execute_result"
    },
    {
     "data": {
      "image/png": "[encoded data removed]",
      "text/plain": [
       "<Figure size 720x360 with 4 Axes>"
      ]
     },
     "metadata": {},
     "output_type": "display_data"
    }
   ],
   "source": [
    "# YOU ARE REQUIRED TO INSERT YOUR CODE IN THIS CELL\n",
    "\n",
    "# compute the Euclidean distance matrix using compute_euclidean_distance_matrix() function\n",
    "\n",
    "all_euclidean_distances, all_cosine_distances = compute_distance_matrices(all_termdoc) # INSERT YOUR CODE HERE\n",
    "\n",
    "fig, (ax1, ax2) = plt.subplots(figsize=(10, 5), ncols=2)\n",
    "pos1 = ax1.imshow(all_euclidean_distances)\n",
    "fig.colorbar(pos1, ax=ax1)\n",
    "\n",
    "pos2 = ax2.imshow(all_cosine_distances, cmap='brg')\n",
    "fig.colorbar(pos2, ax=ax2)"
   ]
  },
  {
   "cell_type": "markdown",
   "metadata": {},
   "source": [
    "**Instruction 2.20 (HD)**. \n",
    "1. Your task is to produce a scatter plot of Euclidean vs cosine distance for all tweets. [**2 marks**]\n",
    "2. Fit first and second order polynomials to the data in the scatter plot and overplot them. [**3 marks**]\n",
    "3. Explain why the plotted curves do not go through the centre of the points cloud. [**4 marks**]\n",
    "4. Which visualisation technique would be better to use here? [**1 mark**]\n",
    "\n",
    "[**Total mark: 10**]"
   ]
  },
  {
   "cell_type": "markdown",
   "metadata": {},
   "source": [
    "**Note**. Next, we use Kmeans algorithm to cluster all tweets stored in term-by-document matrix ***all_termdoc***. An important requirement for the Kmeans is the specification of the number of clusters which will be specified the variable **n_clusters**.\n",
    "\n",
    "The following piece of codes will initialise a ***kmeans*** object to be used for subsequent clustering task."
   ]
  },
  {
   "cell_type": "code",
   "execution_count": 50,
   "metadata": {},
   "outputs": [],
   "source": [
    "'''\n",
    "Initialise a kmeans object  from scikit-lean package\n",
    "'''\n",
    "n_clusters = 3\n",
    "kmeans = KMeans(n_clusters=n_clusters, init='k-means++', n_init=5, max_iter=3000,\n",
    "                verbose=True, tol=0.000001, random_state=123456)\n"
   ]
  },
  {
   "cell_type": "markdown",
   "metadata": {},
   "source": [
    "**Instruction 2.21**. Your task is to use the variable ***kmeans*** to perform clustering on the data stored in the variable ***all_termdoc***.\n",
    "\n",
    "[**Total mark: 5**]"
   ]
  },
  {
   "cell_type": "code",
   "execution_count": 52,
   "metadata": {},
   "outputs": [
    {
     "name": "stdout",
     "output_type": "stream",
     "text": [
      "Initialization complete\n",
      "start iteration\n",
      "done sorting\n",
      "end inner loop\n",
      "Iteration 0, inertia 7140.672233583274\n",
      "start iteration\n",
      "done sorting\n",
      "end inner loop\n",
      "Iteration 1, inertia 7037.8836652606105\n",
      "start iteration\n",
      "done sorting\n",
      "end inner loop\n",
      "Iteration 2, inertia 7007.464312430309\n",
      "start iteration\n",
      "done sorting\n",
      "end inner loop\n",
      "Iteration 3, inertia 7005.5257742257745\n",
      "start iteration\n",
      "done sorting\n",
      "end inner loop\n",
      "Iteration 4, inertia 7005.5257742257745\n",
      "center shift 0.000000e+00 within tolerance 5.098621e-09\n",
      "Initialization complete\n",
      "start iteration\n",
      "done sorting\n",
      "end inner loop\n",
      "Iteration 0, inertia 7290.9480286738335\n",
      "start iteration\n",
      "done sorting\n",
      "end inner loop\n",
      "Iteration 1, inertia 7290.9480286738335\n",
      "center shift 0.000000e+00 within tolerance 5.098621e-09\n",
      "Initialization complete\n",
      "start iteration\n",
      "done sorting\n",
      "end inner loop\n",
      "Iteration 0, inertia 7135.132368274062\n",
      "start iteration\n",
      "done sorting\n",
      "end inner loop\n",
      "Iteration 1, inertia 7005.827646038175\n",
      "start iteration\n",
      "done sorting\n",
      "end inner loop\n",
      "Iteration 2, inertia 6977.707331641804\n",
      "start iteration\n",
      "done sorting\n",
      "end inner loop\n",
      "Iteration 3, inertia 6973.352226849237\n",
      "start iteration\n",
      "done sorting\n",
      "end inner loop\n",
      "Iteration 4, inertia 6973.352226849237\n",
      "center shift 0.000000e+00 within tolerance 5.098621e-09\n",
      "Initialization complete\n",
      "start iteration\n",
      "done sorting\n",
      "end inner loop\n",
      "Iteration 0, inertia 7215.847137936684\n",
      "start iteration\n",
      "done sorting\n",
      "end inner loop\n",
      "Iteration 1, inertia 7199.825067476387\n",
      "start iteration\n",
      "done sorting\n",
      "end inner loop\n",
      "Iteration 2, inertia 7193.417410714285\n",
      "start iteration\n",
      "done sorting\n",
      "end inner loop\n",
      "Iteration 3, inertia 7179.353787878787\n",
      "start iteration\n",
      "done sorting\n",
      "end inner loop\n",
      "Iteration 4, inertia 7150.711601180311\n",
      "start iteration\n",
      "done sorting\n",
      "end inner loop\n",
      "Iteration 5, inertia 7130.594434006194\n",
      "start iteration\n",
      "done sorting\n",
      "end inner loop\n",
      "Iteration 6, inertia 7095.354369530383\n",
      "start iteration\n",
      "done sorting\n",
      "end inner loop\n",
      "Iteration 7, inertia 7086.156764355238\n",
      "start iteration\n",
      "done sorting\n",
      "end inner loop\n",
      "Iteration 8, inertia 7086.156764355238\n",
      "center shift 0.000000e+00 within tolerance 5.098621e-09\n",
      "Initialization complete\n",
      "start iteration\n",
      "done sorting\n",
      "end inner loop\n",
      "Iteration 0, inertia 7185.384428848568\n",
      "start iteration\n",
      "done sorting\n",
      "end inner loop\n",
      "Iteration 1, inertia 7048.992886575986\n",
      "start iteration\n",
      "done sorting\n",
      "end inner loop\n",
      "Iteration 2, inertia 7025.146063066997\n",
      "start iteration\n",
      "done sorting\n",
      "end inner loop\n",
      "Iteration 3, inertia 7022.093070343071\n",
      "start iteration\n",
      "done sorting\n",
      "end inner loop\n",
      "Iteration 4, inertia 7017.874180865011\n",
      "start iteration\n",
      "done sorting\n",
      "end inner loop\n",
      "Iteration 5, inertia 7016.8897025171555\n",
      "start iteration\n",
      "done sorting\n",
      "end inner loop\n",
      "Iteration 6, inertia 7016.8897025171555\n",
      "center shift 0.000000e+00 within tolerance 5.098621e-09\n"
     ]
    }
   ],
   "source": [
    "# YOU ARE REQUIRED TO INSERT YOUR CODE IN THIS CELL\n",
    "\n",
    "'''\n",
    "Use the variable kmeans to perform clustering on the data stored in the variable all_termdoc\n",
    "Hint: revise the practical session on Kmeans algorithm or check out the documentation from scikit-learn\n",
    "for Kmeans algorithm.\n",
    "'''\n",
    "# INSERT YOUR CODE HERE\n",
    "\n",
    "X_train = np.array(all_termdoc)\n",
    "y_train = kmeans.fit(X_train)\n"
   ]
  },
  {
   "cell_type": "markdown",
   "metadata": {},
   "source": [
    "**Instruction 2.22**. Write your codes to print out the cluster centers.\n",
    "\n",
    "[**Total mark: 5**]"
   ]
  },
  {
   "cell_type": "code",
   "execution_count": 54,
   "metadata": {},
   "outputs": [
    {
     "name": "stdout",
     "output_type": "stream",
     "text": [
      "cluster centers:\n",
      "[[ 4.77048956e-18  4.77048956e-18  7.14285714e-03 ...  2.85714286e-02\n",
      "   4.77048956e-18  2.14285714e-02]\n",
      " [ 2.84090909e-03  2.84090909e-03 -2.60208521e-18 ... -1.04083409e-17\n",
      "   2.84090909e-03 -1.82145965e-17]\n",
      " [-1.73472348e-18 -1.73472348e-18 -1.73472348e-18 ... -6.93889390e-18\n",
      "  -1.73472348e-18 -4.33680869e-18]]\n"
     ]
    }
   ],
   "source": [
    "# YOU ARE REQUIRED TO INSERT YOUR CODE IN THIS CELL\n",
    "'''\n",
    "Write your codes to print out the cluster centers.\n",
    "'''\n",
    "# INSERT YOUR CODE HERE\n",
    "print(\"cluster centers:\")\n",
    "print(kmeans.cluster_centers_)"
   ]
  },
  {
   "cell_type": "markdown",
   "metadata": {},
   "source": [
    "**Instruction 2.23 (HD)**. Explain below why visualising the clusters here is hard to do in this case.\n",
    "\n",
    "[**Total mark: 5**]"
   ]
  },
  {
   "cell_type": "code",
   "execution_count": null,
   "metadata": {},
   "outputs": [],
   "source": [
    "# YOU ARE REQUIRED TO INSERT YOUR COMMENT IN THIS CELL\n",
    "# Explain below why visualising the clusters here is hard to do in this case.\n",
    "# INSERT YOUR COMMENT HERE\n",
    "\n",
    "# **Solution:**\n",
    "# Because we process the corpus directly and do not use other dimensionality reduction operations,\n",
    "# it is difficult to visualize the high-dimensional space.\n",
    "# Moreover, data points are mostly sparse in high dimensional space."
   ]
  },
  {
   "cell_type": "markdown",
   "metadata": {},
   "source": [
    "**Instruction 2.24 (HD)**. Nevertheless, it is possible to visualise the structure of the cluster centres - surprisingly, using bar charts. Each vector component in the cluster centre vectors corresponds to a word in the dictionary. The value (amplitude) of the vector component for each particular word in the dictionary shows the strength of presence of a word in the cluster.\n",
    "In this task, you want to:\n",
    "1. Plot bar charts for each of the three clusters, obtained from KMeans, where each bar chart has 20 strongest words sorted by their presence strength. [**5 marks**]\n",
    "2. Explain the bar charts from the point of view of chosen keywords, English grammar and our text preprocessing routine. [**5 marks**]\n",
    "\n",
    "[**Total mark: 10**]"
   ]
  },
  {
   "cell_type": "code",
   "execution_count": 63,
   "metadata": {},
   "outputs": [
    {
     "name": "stdout",
     "output_type": "stream",
     "text": [
      "cluster 1\n",
      "cluster 2\n",
      "cluster 3\n"
     ]
    }
   ],
   "source": [
    "# YOU ARE REQUIRED TO INSERT YOUR CODE IN THIS CELL\n",
    "# 1. Plot bar charts for each of the three clusters, obtained from KMeans, \n",
    "# where each bar chart has 20 strongest words sorted by their presence strength.\n",
    "# INSERT YOUR CODE HERE\n",
    "cen = kmeans.cluster_centers_\n",
    "def get_20_strongest_words(corpus, center):\n",
    "    from heapq import heappop, heappush\n",
    "    h = []\n",
    "    # heap sort: get 20 strongest words\n",
    "    for i, v in enumerate(corpus):\n",
    "        heappush(h, (Euclidean_distance(v, center), i))\n",
    "    return [heappop(h) for i in range(20)]\n",
    "clu = [0] * 3\n",
    "for i in range(3):\n",
    "    print(\"cluster {}\".format(i + 1))\n",
    "    clu[i] = get_20_strongest_words(all_termdoc, cen[i])"
   ]
  },
  {
   "cell_type": "code",
   "execution_count": 78,
   "metadata": {},
   "outputs": [
    {
     "name": "stdout",
     "output_type": "stream",
     "text": [
      "Current tweet: [['url'], ['url'], ['url'], ['url'], ['pizza', 'bestellservice'], ['want', 'pizza', 'bro'], ['for', 'anne', 'the', 'pizza*'], ['pizzatimeisthebestthingever', 'justtoleteveryoneknowthathasn', 'tfigureditoutyet'], ['marriage', 'pizza', 'friends', 'url'], ['crabs', 'butter', 'pizza', 'url'], ['what', 'type', 'dance', 'neourl'], ['the', 'spreader', 'runs', 'car', 'battery'], ['for', 'inch', 'pizza', 'different', 'level'], ['many', 'thanks', 'really', 'helpful'], ['but', 'can', 'dance', 'like', 'kevin'], ['yes', 'but', 'its', 'pizza', 'pineapple'], ['managers', 'choice', 'pizza', 'like', 'url'], ['can', 'wait', 'see', 'nicola', 'dance'], ['rose', 'royce', 'dance', 'with', 'url'], ['has', 'super', 'watched', 'last', 'dance']]\n"
     ]
    },
    {
     "data": {
      "image/png": "[encoded data removed]",
      "text/plain": [
       "<Figure size 432x288 with 1 Axes>"
      ]
     },
     "metadata": {},
     "output_type": "display_data"
    },
    {
     "name": "stdout",
     "output_type": "stream",
     "text": [
      "Current tweet: [['url'], ['url'], ['url'], ['url'], ['marriage', 'pizza', 'friends', 'url'], ['crabs', 'butter', 'pizza', 'url'], ['pizza', 'bestellservice'], ['rose', 'royce', 'dance', 'with', 'url'], ['managers', 'choice', 'pizza', 'like', 'url'], ['warms', 'the', 'moving', 'north', 'car', 'url'], ['want', 'pizza', 'bro'], ['joins', 'the', 'strictly', 'lineup', 'url', 'url'], ['for', 'anne', 'the', 'pizza*'], ['pizzatimeisthebestthingever', 'justtoleteveryoneknowthathasn', 'tfigureditoutyet'], ['our', 'pizza', 'oven', 'arriving', 'today', 'url'], ['tony', 'bart', 'dance', 'edit', 'url', 'lastfm'], ['ayyyy', 'who', 'ordered', 'fuckin', 'pizza', 'url'], ['what', 'type', 'dance', 'neourl'], ['the', 'spreader', 'runs', 'car', 'battery'], ['many', 'thanks', 'really', 'helpful']]\n"
     ]
    },
    {
     "data": {
      "image/png": "[encoded data removed]",
      "text/plain": [
       "<Figure size 432x288 with 1 Axes>"
      ]
     },
     "metadata": {},
     "output_type": "display_data"
    },
    {
     "name": "stdout",
     "output_type": "stream",
     "text": [
      "Current tweet: [['the', 'moment', 'the', 'car', 'ramming', 'liars', 'url'], ['doubt', 'the', 'car', 'still', 'the', 'country', 'keeping', 'url'], ['congratz', 'the', 'man', 'for', 'the', 'impressive', 'milestone', 'url'], ['not', 'mention', 'the', 'exhaust', 'the', 'car', 'idles'], ['warms', 'the', 'moving', 'north', 'car', 'url'], ['for', 'anne', 'the', 'pizza*'], ['url'], ['url'], ['url'], ['url'], ['the', 'star', 'will', 'taking', 'the', 'strictly', 'dance', 'floor', 'url'], ['the', 'spreader', 'runs', 'car', 'battery'], ['joins', 'the', 'strictly', 'lineup', 'url', 'url'], ['the', 'details', 'are', 'the', 'emails', 'you', 'find', 'pizza', 'server', 'url'], ['the', 'other', 'love', 'your', 'car', 'life'], ['dance', 'with', 'the', 'witch', 'destroy', 'patriarchy'], ['show', 'them', 'the', 'dance', 'moves', 'learned'], ['driving', 'tip', 'the', 'day', 'prepare', 'your', 'car', 'for', 'the', 'spring', 'url'], ['can', 'you', 'elaborate', 'the', 'energy', 'differences'], ['pizza', 'took', 'priority', 'the', 'end', 'haha']]\n"
     ]
    },
    {
     "data": {
      "image/png": "[encoded data removed]",
      "text/plain": [
       "<Figure size 432x288 with 1 Axes>"
      ]
     },
     "metadata": {},
     "output_type": "display_data"
    }
   ],
   "source": [
    "def plotBar(y):\n",
    "    plt.bar(range(len(y)), y, color='rgb')\n",
    "    plt.show()\n",
    "    \n",
    "for k in range(3):\n",
    "    print(\"Current tweet: {}\".format([all_tweets_processed[i[1]] for i in clu[k]]))\n",
    "    y = [i[0] for i in clu[k]]\n",
    "    plotBar(y)"
   ]
  },
  {
   "cell_type": "code",
   "execution_count": 80,
   "metadata": {},
   "outputs": [],
   "source": [
    "# YOU ARE REQUIRED TO INSERT YOUR COMMENT IN THIS CELL\n",
    "# Explain the bar charts from the point of view of chosen keywords, English grammar \n",
    "# and our text preprocessing routine.\n",
    "# INSERT YOUR COMMENT HERE\n",
    "#\n",
    "# **Solution:**\n",
    "# We can see that urls are appearing a lot, so they have a lot of weight, which means urls are appearing a lot in Twitter\n",
    "# Second, because we crawled data with \"pizza\" and \"car, \"tweets with more of those words were closer to the center"
   ]
  },
  {
   "cell_type": "markdown",
   "metadata": {},
   "source": [
    "**Instruction 2.25**. Write your codes to print out the first **200** cluster labels assigned to the first 200 tweets.\n",
    "\n",
    "[**Total marks: 5**]"
   ]
  },
  {
   "cell_type": "code",
   "execution_count": 76,
   "metadata": {},
   "outputs": [
    {
     "name": "stdout",
     "output_type": "stream",
     "text": [
      "[2 0 1 1 1 1 2 1 1 1 1 1 1 1 2 1 2 1 1 2 2 1 1 1 1 1 1 1 2 1 1 0 1 2 1 1 1\n",
      " 1 1 1 1 1 1 2 1 0 2 1 1 1 1 0 1 1 1 1 0 1 1 1 1 0 1 1 1 1 2 1 0 0 0 1 1 0\n",
      " 2 1 1 0 1 1 1 0 1 1 2 1 2 0 2 2 2 2 1 1 1 1 1 1 0 1 1 1 2 1 1 1 0 1 1 1 2\n",
      " 1 1 1 2 1 1 1 2 1 1 1 1 1 1 1 1 1 1 1 1 0 2 1 0 1 1 1 1 1 0 1 1 0 2 1 0 1\n",
      " 2 1 1 0 1 1 2 1 2 1 1 2 2 0 1 1 1 0 0 1 0 1 1 0 1 2 1 0 1 1 1 0 0 0 0 1 1\n",
      " 1 1 0 1 1 1 2 2 0 0 2 0 1 0 1]\n"
     ]
    }
   ],
   "source": [
    "# YOU ARE REQUIRED TO INSERT YOUR CODE IN THIS CELL\n",
    "'''\n",
    "Write your codes to print out the first **200** cluster labels assigned to the first 200 tweets.\n",
    "'''\n",
    "# INSERT YOUR CODE HERE\n",
    "print(kmeans.predict(all_termdoc[:200]))"
   ]
  },
  {
   "cell_type": "code",
   "execution_count": 90,
   "metadata": {},
   "outputs": [],
   "source": [
    "docBaseIndex = [0, len(k1_tweets_processed), len(k1_tweets_processed) + len(k2_tweets_processed), len(all_tweets_processed)]"
   ]
  },
  {
   "cell_type": "markdown",
   "metadata": {},
   "source": [
    "**Instruction 2.26**. Next, we would like to obtain the quality of our clustering results. Write your code to obtain the labels of tweets for each keyword and store the labels in three new variables ***k1_labels***, ***k2_labels*** and ***k3_labels***, respectively.\n",
    "\n",
    "**[Total marks: 5]**"
   ]
  },
  {
   "cell_type": "code",
   "execution_count": 94,
   "metadata": {},
   "outputs": [
    {
     "name": "stdout",
     "output_type": "stream",
     "text": [
      "[2 0 1 1 1 1 2 1 1 1 1 1 1 1 2 1 2 1 1 2 2 1 1 1 1 1 1 1 2 1 1 0 1 2 1 1 1\n",
      " 1 1 1 1 1 1 2 1 0 2 1 1 1 1 0 1 1 1 1 0 1 1 1 1 0 1 1 1 1 2 1 0 0 0 1 1 0\n",
      " 2 1 1 0 1 1 1 0 1 1 2 1 2 0 2 2 2 2 1 1 1 1 1 1 0 1 1 1 2 1 1 1 0 1 1 1 2\n",
      " 1 1 1 2 1 1 1 2 1 1 1 1 1 1 1 1 1 1 1 1 0 2 1 0 1 1 1 1 1 0 1 1 0 2 1 0 1\n",
      " 2 1 1 0 1 1 2 1 2 1 1 2 2 0 1 1 1 0 0 1 0 1 1 0 1 2 1 0 1 1 1 0 0 0 0 1 1\n",
      " 1 1 0 1 1 1 2 2 0 0 2 0 1 0 1 1 2 1 1 1 1 1 1 2 0]\n",
      "[1 0 1 0 1 0 1 0 0 0 0 1 1 1 1 1 0 0 1 0 1 0 1 1 1 0 0 1 1 0 1 0 1 2 1 1 0\n",
      " 1 1 0 1 0 1 1 1 1 1 0 0 1 1 1 1 2 1 1 1 1 1 1 1 1 1 1 1 0 1 2 1 2 1 0 1 0\n",
      " 1 0 0 1 0 0 1 1 1 1 0 0 0 1 1 0 2 0 0 0 0 0 1 2 0 1 1 1 1 1 0 1 0 2 1 1 1\n",
      " 1 1 0 1 0 0 0 1 1 0 0 0 0 2 1 2 0 1 2 1 0 1 1 0 1 0 0 1 0 0 0 1 1 1 0 0 1\n",
      " 0 0 1 2 0 2]\n",
      "[1 1 1 2 0 1 0 0 1 1 2 2 1 0 1 0 2 1 1 1 0 1 2 0 0 1 1 1 0 1 0 1 2 1 1 1 1\n",
      " 1 1 1 1 1 2 1 1 2 1 1 1 2 1 1 2 1 1 1 1 0 1 0 2 1 1 1 0 1 0 2 1 0 1 1 0 1\n",
      " 1 1 2 1 0 1 1 1 1 1 2 0 1 1 1 1 1 1 1 0 0 1 1 1 1 1 1 1 1 0 1 1 2 1 1 1 0\n",
      " 1 1 1 1 0 1 1 1 1 0 1 1 1 0 0 2 1 1 1 2 1 0 1 1 0 0 1 1 2 0 1 1 1 1 1 1 1\n",
      " 0 1 1 0 1 2 1 1 1 1 0 2 0 1 1 1 1 0 1 2 0 0 1 1 1 1 1 1 0 1 0 1 0 1 1 1 1\n",
      " 1 1 1 1 0 1 1 0 1 0 1 2]\n"
     ]
    }
   ],
   "source": [
    "# YOU ARE REQUIRED TO INSERT YOUR CODE IN THIS CELL\n",
    "\n",
    "'''\n",
    "Write your code to obtain the labels of tweets for each keyword\n",
    "and store the labels of the first keyword in ***k1_labels***, \n",
    "the labels of the second keyword in ***k2_labels*** and\n",
    "the labels of the third keyword in ***k3_labels***.\n",
    "'''\n",
    "# INSERT YOUR CODE HERE\n",
    "k1_labels = kmeans.predict(all_termdoc[docBaseIndex[0] : docBaseIndex[1]])\n",
    "print(k1_labels)\n",
    "k2_labels = kmeans.predict(all_termdoc[docBaseIndex[1] : docBaseIndex[2]])\n",
    "print(k2_labels)\n",
    "k3_labels = kmeans.predict(all_termdoc[docBaseIndex[2] : docBaseIndex[3]])\n",
    "print(k3_labels)"
   ]
  },
  {
   "cell_type": "markdown",
   "metadata": {},
   "source": [
    "**Instruction 2.27 (D)**. We examine what is the proprotion of tweets from different keywords (or categories) appear in the **first** cluster. Remember that **0** is the label for the first cluster (**1** for the second and **2** for the third clusters). Your tasks are:\n",
    "\n",
    "1. Write your code to obtain the list of tweet indices of each keyword that are assigned to the first cluster. **(3 marks)**\n",
    "\n",
    "2. Plot a bar chart to visualise the number of tweets of each keyword that are assigned to the first cluster. **(2 marks)**\n",
    "\n",
    "**[Total mark: 5]**"
   ]
  },
  {
   "cell_type": "code",
   "execution_count": 95,
   "metadata": {},
   "outputs": [
    {
     "name": "stdout",
     "output_type": "stream",
     "text": [
      "(array([  1,  31,  45,  51,  56,  61,  68,  69,  70,  73,  77,  81,  87,\n",
      "        98, 106, 131, 134, 140, 143, 146, 151, 161, 165, 166, 168, 171,\n",
      "       175, 179, 180, 181, 182, 187, 193, 194, 196, 198, 209], dtype=int64),)\n",
      "(array([  1,   3,   5,   7,   8,   9,  10,  16,  17,  19,  21,  25,  26,\n",
      "        29,  31,  36,  39,  41,  47,  48,  65,  71,  73,  75,  76,  78,\n",
      "        79,  84,  85,  86,  89,  91,  92,  93,  94,  95,  98, 104, 106,\n",
      "       113, 115, 116, 117, 120, 121, 122, 123, 127, 131, 134, 136, 137,\n",
      "       139, 140, 141, 145, 146, 148, 149, 152], dtype=int64),)\n",
      "(array([  4,   6,   7,  13,  15,  20,  23,  24,  28,  30,  57,  59,  64,\n",
      "        66,  69,  72,  78,  85,  93,  94, 103, 110, 115, 120, 124, 125,\n",
      "       132, 135, 136, 140, 148, 151, 158, 160, 165, 168, 169, 176, 178,\n",
      "       180, 189, 192, 194], dtype=int64),)\n"
     ]
    }
   ],
   "source": [
    "# YOU ARE REQUIRED TO INSERT YOUR CODE IN THIS CELL\n",
    "'''\n",
    "Write your code to obtain the list of tweet indices of each keyword that are assigned to the first cluster.\n",
    "Hint: you might want to use numpy.where function.\n",
    "'''\n",
    "# obtain the list of tweet indices of keyword k1 that are assigned to the first cluster\n",
    "# means that to find tweet indices that have label 0 in k1_labels\n",
    "k1_idx_label0 = np.where(k1_labels == 0) # INSERT YOUR CODE HERE\n",
    "print(k1_idx_label0)\n",
    "\n",
    "# obtain the list of tweet indices of keyword k2 that are assigned to the first cluster\n",
    "# means that to find tweet indices that have label 0 in k2_labels\n",
    "k2_idx_label0 = np.where(k2_labels == 0) # INSERT YOUR CODE HERE\n",
    "print(k2_idx_label0)\n",
    "# obtain the list of tweet indices of keyword k3 that are assigned to the first cluster\n",
    "# means that to find tweet indices that have label 0 in k3_labels\n",
    "k3_idx_label0 = np.where(k3_labels == 0) # INSERT YOUR CODE HERE\n",
    "print(k3_idx_label0)"
   ]
  },
  {
   "cell_type": "code",
   "execution_count": 96,
   "metadata": {},
   "outputs": [
    {
     "data": {
      "image/png": "[encoded data removed]",
      "text/plain": [
       "<Figure size 432x288 with 1 Axes>"
      ]
     },
     "metadata": {},
     "output_type": "display_data"
    }
   ],
   "source": [
    "# YOU ARE REQUIRED TO INSERT YOUR CODE IN THIS CELL\n",
    "'''\n",
    "Plot a bar chart to visualise the number of tweets of each keyword that are assigned to the first cluster.\n",
    "Hint: you need to plot a bar chart with three bars, \n",
    "each bar represents the number of tweets of each keyword that are assigned to the first cluster.\n",
    "'''\n",
    "# INSERT YOUR CODE HERE\n",
    "plotBar([len(k1_idx_label0), len(k2_idx_label0), len(k3_idx_label0)])"
   ]
  },
  {
   "cell_type": "markdown",
   "metadata": {},
   "source": [
    "**Instruction 2.28 (D)**. Similarly, write your codes to compute the the proprotion of tweets from different keywords (or categories) appear in the **second** cluster and plot a bar chart visualise this information.\n",
    "\n",
    "[**Total mark: 5**]"
   ]
  },
  {
   "cell_type": "code",
   "execution_count": null,
   "metadata": {},
   "outputs": [],
   "source": [
    "# YOU ARE REQUIRED TO INSERT YOUR CODE IN THIS CELL\n",
    "\n",
    "# obtain the list of tweet indices of keyword k1 that are assigned to the second cluster\n",
    "# means that to find tweet indices that have label 1 in k1_labels\n",
    "k1_idx_label1 = np.where(k1_labels == 0) # INSERT YOUR CODE HERE\n",
    "\n",
    "k2_idx_label1 = np.where(k2_labels == 0) # INSERT YOUR CODE HERE\n",
    "\n",
    "k3_idx_label1 = np.where(k3_labels == 0) # INSERT YOUR CODE HERE\n",
    "\n",
    "# Plot a bar chart to visualise the number of tweets of each keyword that are assigned to the second cluster\n",
    "# INSERT YOUR CODE HERE\n",
    "\n",
    "plotBar([len(k1_idx_label0), len(k2_idx_label0), len(k3_idx_label0)])"
   ]
  },
  {
   "cell_type": "markdown",
   "metadata": {},
   "source": [
    "**Instruction 2.29 (D)**. Similarly, write your codes to compute the the proprotion of tweets from different keywords (or categories) appear in the **third** cluster and plot a bar chart visualise this information.\n",
    "\n",
    "[**Total mark: 5**]"
   ]
  },
  {
   "cell_type": "code",
   "execution_count": null,
   "metadata": {},
   "outputs": [],
   "source": [
    "# YOU ARE REQUIRED TO INSERT YOUR CODE IN THIS CELL\n",
    "\n",
    "# obtain the list of tweet indices of keyword k1 that are assigned to the third cluster\n",
    "# means that to find tweet indices that have label 2 in k1_labels\n",
    "k1_idx_label2 = # INSERT YOUR CODE HERE\n",
    "\n",
    "# obtain the list of tweet indices of keyword k2 that are assigned to the third cluster\n",
    "# means that to find tweet indices that have label 2 in k2_labels\n",
    "k2_idx_label2 = # INSERT YOUR CODE HERE\n",
    "\n",
    "# obtain the list of tweet indices of keyword k3 that are assigned to the third cluster\n",
    "# means that to find tweet indices that have label 2 in k3_labels\n",
    "k3_idx_label2 = # INSERT YOUR CODE HERE\n",
    "\n",
    "# Plot a bar chart to visualise the number of tweets of each keyword that are assigned to the third cluster\n",
    "# INSERT YOUR CODE HERE\n"
   ]
  },
  {
   "cell_type": "markdown",
   "metadata": {},
   "source": [
    "### END OF ASSIGNMENT 2 NOTEBOOK\n",
    "\n",
    "----"
   ]
  },
  {
   "cell_type": "code",
   "execution_count": null,
   "metadata": {},
   "outputs": [],
   "source": []
  }
 ],
 "metadata": {
  "kernelspec": {
   "display_name": "Python 3",
   "language": "python",
   "name": "python3"
  },
  "language_info": {
   "codemirror_mode": {
    "name": "ipython",
    "version": 3
   },
   "file_extension": ".py",
   "mimetype": "text/x-python",
   "name": "python",
   "nbconvert_exporter": "python",
   "pygments_lexer": "ipython3",
   "version": "3.6.5"
  }
 },
 "nbformat": 4,
 "nbformat_minor": 1
}
